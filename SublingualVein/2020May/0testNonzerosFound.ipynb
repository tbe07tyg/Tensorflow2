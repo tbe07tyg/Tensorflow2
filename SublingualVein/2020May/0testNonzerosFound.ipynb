{
 "cells": [
  {
   "cell_type": "code",
   "execution_count": null,
   "metadata": {},
   "outputs": [],
   "source": [
    "# test tensorflow nonzero indices\n",
    "import tensorflow as tf\n",
    "\n",
    "# # tensor = tf.random.uniform([4,2,5, 2])\n",
    "# tensor = tf.zeros([4,2,5, 2])\n",
    "# print(tensor)"
   ]
  },
  {
   "cell_type": "code",
   "execution_count": null,
   "metadata": {},
   "outputs": [],
   "source": [
    "non_zeros =  tf.greater(tensor, 1e-7)\n",
    "print(non_zeros)"
   ]
  },
  {
   "cell_type": "code",
   "execution_count": null,
   "metadata": {},
   "outputs": [],
   "source": [
    "non_zeros =  tf.math.less(tensor, 1e-7)\n",
    "print(non_zeros)"
   ]
  },
  {
   "cell_type": "code",
   "execution_count": null,
   "metadata": {},
   "outputs": [],
   "source": [
    "non_zero_array = tf.boolean_mask(tensor, non_zeros)\n",
    "print(non_zero_array)"
   ]
  },
  {
   "cell_type": "code",
   "execution_count": null,
   "metadata": {},
   "outputs": [],
   "source": [
    "tensor = tf.zeros([4,2,5, 2])\n",
    "non_zeros =  tf.greater(tensor, 1e-7)\n",
    "indices = tf.where(non_zeros)\n",
    "print(indices)\n",
    "is_empty =  tf.equal(tf.size(indices),0)\n",
    "print(is_empty)\n",
    "\n",
    "if is_empty:\n",
    "    print(\"empty\")"
   ]
  },
  {
   "cell_type": "code",
   "execution_count": null,
   "metadata": {},
   "outputs": [],
   "source": [
    "import tensorflow as tf\n",
    "\n",
    "tensor = tf.random.uniform([2,2])\n",
    "print(tensor)\n",
    "tensor_reshape = tf.reshape(tensor, [-1, 1])\n",
    "print(tensor_reshape)\n",
    "fulfill_bool =  tf.greater(tensor_reshape, 0.5)\n",
    "# indices = tf.where(non_zeros)\n",
    "print(\"fulfill_bool\",fulfill_bool)\n",
    "num_tp =  tf.math.reduce_sum(tf.cast(non_zeros_bool, tf.float32))\n",
    "# print(num_tp)\n",
    "idx_replace = tf.where( fulfill_bool == True )\n",
    "idx_keep =  tf.where(fulfill_bool == False)\n",
    "print(\"idx_replace:\", idx_replace)\n",
    "print(\"idx_keep:\", idx_keep)\n",
    "# print(\"idx_replace:\", idx_replace[:,-1])\n",
    "\n",
    "value_need_replace =  tf.gather( tensor_reshape, idx_replace )\n",
    "print(\"value_need_replace:\", value_need_replace, value_need_replace.shape )\n",
    "value_for_replace =  tf.zeros(tf.shape(value_need_replace))\n",
    "print(\"value_for_replace:\", value_for_replace)\n",
    "value_need_keep =  tf.gather( tensor_reshape, idx_keep )\n",
    "\n",
    "print(\"value_need_keep:\", value_need_keep, value_need_keep.shape)\n",
    "\n",
    "# value_for_replace = range(value_need_replace.shape[0])\n",
    "# value_need_keep = range(value_need_keep.shape[0])\n",
    "print(\"value_for_replace[:,-1]:\",value_for_replace[:,-1])\n",
    "print(\"value_need_keep[:, -1]:\", value_need_keep[:,-1])\n",
    "replaced_tensor =  tf.where(fulfill_bool, x=value_for_replace[:,-1], y= value_need_keep[:, -1] )\n",
    "# replaced_tensor =  tf.where(fulfill_bool, x=value_for_replace, y= value_need_keep)\n",
    "print(\"replaced_tensor:\", replaced_tensor)\n",
    "# replace the value larger than 0.5 , tf where   true replaced with x, else flse replaced with y\n",
    "# replaced_tensor = tf.where(fulfill_bool, x=)"
   ]
  },
  {
   "cell_type": "code",
   "execution_count": 67,
   "metadata": {},
   "outputs": [
    {
     "name": "stdout",
     "output_type": "stream",
     "text": [
      "tensor: tf.Tensor(\n",
      "[[0.5312946  0.24023116 0.17054498 0.60127366 0.38026917 0.6890931\n",
      "  0.06935036 0.06791604]], shape=(1, 8), dtype=float32)\n",
      "zeros_paddings: tf.Tensor([[0. 0. 0. 0. 0.]], shape=(1, 5), dtype=float32)\n",
      "tf.Tensor([[ True False False  True False  True False False]], shape=(1, 8), dtype=bool)\n",
      "tf.Tensor(\n",
      "[[0 0]\n",
      " [0 3]\n",
      " [0 5]], shape=(3, 2), dtype=int64)\n",
      "case_true2: tf.Tensor(\n",
      "[[0.7033702  0.26692116 0.1315105  0.         0.         0.\n",
      "  0.         0.        ]], shape=(1, 8), dtype=float32)\n",
      "a_m: tf.Tensor(\n",
      "[[0.7033702  0.24023116 0.17054498 0.         0.38026917 0.\n",
      "  0.06935036 0.06791604]], shape=(1, 8), dtype=float32)\n"
     ]
    }
   ],
   "source": [
    "import tensorflow as tf\n",
    "\n",
    "tensor = tf.reshape(tf.random.uniform([2,4]), [1,-1])\n",
    "condition = tf.greater(tensor, 0.5)\n",
    "true_indices = tf.where(condition)\n",
    "\n",
    "# case_true = tf.reshape(tf.multiply(tf.ones([8], tf.int32), -9999), [2, 4])\n",
    "case_true1 = tf.reshape(tf.random.uniform([true_indices.shape[0]]), [1, -1])\n",
    "zeros_paddings =  tf.reshape(tf.tile([0.0],[tf.shape(tensor)[-1]- tf.shape(case_true1)[-1]]), [1, -1])\n",
    "case_true2 = tf.concat([case_true1, zeros_paddings], -1)\n",
    "case_false = tensor\n",
    "a_m = tf.where(condition, case_true2, case_false)\n",
    "\n",
    "print(\"tensor:\",tensor)\n",
    "# print(\"case_true1:\", case_true1)\n",
    "print(\"zeros_paddings:\", zeros_paddings)\n",
    "\n",
    "print(condition)\n",
    "print(true_indices)\n",
    "print(\"case_true2:\", case_true2)\n",
    "\n",
    "print(\"a_m:\", a_m)"
   ]
  },
  {
   "cell_type": "code",
   "execution_count": 95,
   "metadata": {},
   "outputs": [
    {
     "name": "stdout",
     "output_type": "stream",
     "text": [
      "tensor: tf.Tensor(\n",
      "[[0.4914465  0.93643427 0.94141793 0.8817053 ]\n",
      " [0.75902987 0.8223671  0.06045377 0.05763388]], shape=(2, 4), dtype=float32)\n",
      "idx_replace: tf.Tensor(\n",
      "[[0 1]\n",
      " [0 2]\n",
      " [0 3]\n",
      " [1 0]\n",
      " [1 1]], shape=(5, 2), dtype=int64)\n",
      "value_need_replace: tf.Tensor([0.8194101  0.39099038 0.36934757 0.33711576 0.24898577], shape=(5,), dtype=float32)\n",
      "value_need_keep: tf.Tensor([0.4914465  0.06045377 0.05763388], shape=(3,), dtype=float32)\n",
      "tensor shape: tf.Tensor([2 4], shape=(2,), dtype=int32)\n",
      "value_for_replace: tf.Tensor(\n",
      "[[0.         0.8194101  0.39099038 0.36934757]\n",
      " [0.33711576 0.24898577 0.         0.        ]], shape=(2, 4), dtype=float32)\n",
      "tf.Tensor(\n",
      "[[False  True  True  True]\n",
      " [ True  True False False]], shape=(2, 4), dtype=bool)\n",
      "replacedTensor: tf.Tensor(\n",
      "[[0.4914465  0.8194101  0.39099038 0.36934757]\n",
      " [0.33711576 0.24898577 0.06045377 0.05763388]], shape=(2, 4), dtype=float32)\n"
     ]
    }
   ],
   "source": [
    "import tensorflow as tf\n",
    "\n",
    "tensor = tf.random.uniform([2,4])\n",
    "condition = tf.greater(tensor, 0.5)\n",
    "idx_replace = tf.where( condition == True )\n",
    "idx_keep =  tf.where(condition == False)\n",
    "\n",
    "\n",
    "value_need_replace = tf.random.uniform([idx_replace.shape[0]])\n",
    "\n",
    "value_need_keep =  tf.gather_nd( tensor, idx_keep )\n",
    "\n",
    "print(\"tensor:\",tensor)\n",
    "print(\"idx_replace:\", idx_replace)\n",
    "print(\"value_need_replace:\", value_need_replace)\n",
    "print(\"value_need_keep:\", value_need_keep)\n",
    "print(\"tensor shape:\", tf.shape(tensor))  ### here shape is int 32, diretly use tensor.shape\n",
    "value_for_replace =  tf.sparse.to_dense(tf.sparse.SparseTensor(idx_replace,value_need_replace, tensor.shape ))\n",
    "\n",
    "print(\"value_for_replace:\", value_for_replace)\n",
    "\n",
    "\n",
    "case_false = tensor\n",
    "a_m = tf.where(condition, value_for_replace, case_false)\n",
    "print(condition)\n",
    "\n",
    "\n",
    "print(\"replacedTensor:\", a_m)"
   ]
  },
  {
   "cell_type": "code",
   "execution_count": 30,
   "metadata": {},
   "outputs": [
    {
     "ename": "NameError",
     "evalue": "name 'indices' is not defined",
     "output_type": "error",
     "traceback": [
      "\u001b[1;31m---------------------------------------------------------------------------\u001b[0m",
      "\u001b[1;31mNameError\u001b[0m                                 Traceback (most recent call last)",
      "\u001b[1;32m<ipython-input-30-7efdf80421b1>\u001b[0m in \u001b[0;36m<module>\u001b[1;34m\u001b[0m\n\u001b[1;32m----> 1\u001b[1;33m \u001b[0mrow\u001b[0m \u001b[1;33m=\u001b[0m  \u001b[0mindices\u001b[0m\u001b[1;33m[\u001b[0m\u001b[1;33m:\u001b[0m\u001b[1;33m,\u001b[0m\u001b[1;36m1\u001b[0m\u001b[1;33m]\u001b[0m\u001b[1;33m/\u001b[0m\u001b[1;36m4\u001b[0m\u001b[1;33m\u001b[0m\u001b[1;33m\u001b[0m\u001b[0m\n\u001b[0m\u001b[0;32m      2\u001b[0m \u001b[0mcolom\u001b[0m \u001b[1;33m=\u001b[0m  \u001b[0mindices\u001b[0m\u001b[1;33m[\u001b[0m\u001b[1;33m:\u001b[0m\u001b[1;33m,\u001b[0m \u001b[1;36m2\u001b[0m\u001b[1;33m]\u001b[0m\u001b[1;33m\u001b[0m\u001b[1;33m\u001b[0m\u001b[0m\n\u001b[0;32m      3\u001b[0m \u001b[1;31m# y1 =  indices[0][1]\u001b[0m\u001b[1;33m\u001b[0m\u001b[1;33m\u001b[0m\u001b[1;33m\u001b[0m\u001b[0m\n\u001b[0;32m      4\u001b[0m \u001b[0mprint\u001b[0m\u001b[1;33m(\u001b[0m\u001b[0mrow\u001b[0m\u001b[1;33m)\u001b[0m\u001b[1;33m\u001b[0m\u001b[1;33m\u001b[0m\u001b[0m\n",
      "\u001b[1;31mNameError\u001b[0m: name 'indices' is not defined"
     ]
    }
   ],
   "source": [
    "row =  indices[:,1]/4\n",
    "colom =  indices[:, 2]\n",
    "# y1 =  indices[0][1]\n",
    "print(row)"
   ]
  },
  {
   "cell_type": "code",
   "execution_count": null,
   "metadata": {},
   "outputs": [],
   "source": [
    "centroidsx =  2\n",
    "centroidsy =  3"
   ]
  },
  {
   "cell_type": "code",
   "execution_count": null,
   "metadata": {},
   "outputs": [],
   "source": [
    "all_x =  indices[:, 0]\n",
    "print(all_x)\n",
    "all_y =  indices[:, 1]\n",
    "print(all_y)"
   ]
  },
  {
   "cell_type": "code",
   "execution_count": null,
   "metadata": {},
   "outputs": [],
   "source": [
    "distance_all_x= all_x -centroidsx \n",
    "print(\"distance_all_x:\", distance_all_x)"
   ]
  },
  {
   "cell_type": "code",
   "execution_count": null,
   "metadata": {},
   "outputs": [],
   "source": [
    "distnace_all_x_squre =  tf.math.square(distance_all_x)\n",
    "print(\"distnace_all_x_squre:\", distnace_all_x_squre)"
   ]
  },
  {
   "cell_type": "code",
   "execution_count": null,
   "metadata": {},
   "outputs": [],
   "source": [
    "distance_all_y =  all_y-centroidsy\n",
    "print(\"distance_all_y:\", distance_all_y)"
   ]
  },
  {
   "cell_type": "code",
   "execution_count": null,
   "metadata": {},
   "outputs": [],
   "source": [
    "distnace_all_y_squre =  tf.math.square(distance_all_y)\n",
    "print(\"distnace_all_y_squre:\", distnace_all_y_squre)"
   ]
  },
  {
   "cell_type": "code",
   "execution_count": null,
   "metadata": {},
   "outputs": [],
   "source": [
    "all_squre_distance = distnace_all_x_squre + distnace_all_y_squre\n",
    "print(\"all_squre_distance:\", all_squre_distance)"
   ]
  },
  {
   "cell_type": "code",
   "execution_count": null,
   "metadata": {},
   "outputs": [],
   "source": [
    "distances_all_nonzeros =  tf.math.sqrt(tf.cast(all_squre_distance, tf.float32))\n",
    "print(\"distances_all_nonzeros\", distances_all_nonzeros)"
   ]
  },
  {
   "cell_type": "code",
   "execution_count": null,
   "metadata": {},
   "outputs": [],
   "source": [
    "max_dis =  tf.math.reduce_max(distances_all_nonzeros)\n",
    "print(\"max_dis:\", max_dis)"
   ]
  },
  {
   "cell_type": "code",
   "execution_count": null,
   "metadata": {},
   "outputs": [],
   "source": [
    "a = tf.constant([0.5])\n",
    "b =  tf.constant([0.4])\n",
    "\n",
    "min = tf.math.reduce_min([a, b])\n",
    "print(min)\n",
    "max = tf.math.reduce_max([a, b])\n",
    "print(max)"
   ]
  },
  {
   "cell_type": "code",
   "execution_count": null,
   "metadata": {},
   "outputs": [],
   "source": []
  }
 ],
 "metadata": {
  "kernelspec": {
   "display_name": "Python 3",
   "language": "python",
   "name": "python3"
  },
  "language_info": {
   "codemirror_mode": {
    "name": "ipython",
    "version": 3
   },
   "file_extension": ".py",
   "mimetype": "text/x-python",
   "name": "python",
   "nbconvert_exporter": "python",
   "pygments_lexer": "ipython3",
   "version": "3.7.6"
  }
 },
 "nbformat": 4,
 "nbformat_minor": 4
}
