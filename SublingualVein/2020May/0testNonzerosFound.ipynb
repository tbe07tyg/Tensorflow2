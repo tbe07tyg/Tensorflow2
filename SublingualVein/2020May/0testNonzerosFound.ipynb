{
 "cells": [
  {
   "cell_type": "code",
   "execution_count": null,
   "metadata": {},
   "outputs": [],
   "source": [
    "# test tensorflow nonzero indices\n",
    "import tensorflow as tf\n",
    "\n",
    "tensor = tf.random.uniform([4,2,5, 2])\n",
    "# tensor = tf.zeros([4,2,5, 2])\n",
    "print(tensor)"
   ]
  },
  {
   "cell_type": "code",
   "execution_count": null,
   "metadata": {},
   "outputs": [],
   "source": [
    "non_zeros =  tf.greater(tensor, 1e-7)\n",
    "print(non_zeros)"
   ]
  },
  {
   "cell_type": "code",
   "execution_count": null,
   "metadata": {},
   "outputs": [],
   "source": [
    "non_zero_array = tf.boolean_mask(tensor, non_zeros)\n",
    "print(non_zero_array)"
   ]
  },
  {
   "cell_type": "code",
   "execution_count": null,
   "metadata": {},
   "outputs": [],
   "source": [
    "indices = tf.where(non_zeros)\n",
    "\n",
    "print(indices)\n",
    "if indices.numpy().size:\n",
    "    print(indices)\n",
    "else:\n",
    "    print(\"empty\")\n",
    "    "
   ]
  },
  {
   "cell_type": "code",
   "execution_count": null,
   "metadata": {},
   "outputs": [],
   "source": [
    "row =  indices[:,1]/4\n",
    "colom =  indices[:, 2]\n",
    "# y1 =  indices[0][1]\n",
    "print(row)"
   ]
  },
  {
   "cell_type": "code",
   "execution_count": null,
   "metadata": {},
   "outputs": [],
   "source": [
    "centroidsx =  2\n",
    "centroidsy =  3"
   ]
  },
  {
   "cell_type": "code",
   "execution_count": null,
   "metadata": {},
   "outputs": [],
   "source": [
    "all_x =  indices[:, 0]\n",
    "print(all_x)\n",
    "all_y =  indices[:, 1]\n",
    "print(all_y)"
   ]
  },
  {
   "cell_type": "code",
   "execution_count": null,
   "metadata": {},
   "outputs": [],
   "source": [
    "distance_all_x= all_x -centroidsx \n",
    "print(\"distance_all_x:\", distance_all_x)"
   ]
  },
  {
   "cell_type": "code",
   "execution_count": null,
   "metadata": {},
   "outputs": [],
   "source": [
    "distnace_all_x_squre =  tf.math.square(distance_all_x)\n",
    "print(\"distnace_all_x_squre:\", distnace_all_x_squre)"
   ]
  },
  {
   "cell_type": "code",
   "execution_count": null,
   "metadata": {},
   "outputs": [],
   "source": [
    "distance_all_y =  all_y-centroidsy\n",
    "print(\"distance_all_y:\", distance_all_y)"
   ]
  },
  {
   "cell_type": "code",
   "execution_count": null,
   "metadata": {},
   "outputs": [],
   "source": [
    "distnace_all_y_squre =  tf.math.square(distance_all_y)\n",
    "print(\"distnace_all_y_squre:\", distnace_all_y_squre)"
   ]
  },
  {
   "cell_type": "code",
   "execution_count": null,
   "metadata": {},
   "outputs": [],
   "source": [
    "all_squre_distance = distnace_all_x_squre + distnace_all_y_squre\n",
    "print(\"all_squre_distance:\", all_squre_distance)"
   ]
  },
  {
   "cell_type": "code",
   "execution_count": null,
   "metadata": {},
   "outputs": [],
   "source": [
    "distances_all_nonzeros =  tf.math.sqrt(tf.cast(all_squre_distance, tf.float32))\n",
    "print(\"distances_all_nonzeros\", distances_all_nonzeros)"
   ]
  },
  {
   "cell_type": "code",
   "execution_count": null,
   "metadata": {},
   "outputs": [],
   "source": [
    "max_dis =  tf.math.reduce_max(distances_all_nonzeros)\n",
    "print(\"max_dis:\", max_dis)"
   ]
  },
  {
   "cell_type": "code",
   "execution_count": null,
   "metadata": {},
   "outputs": [],
   "source": [
    "a = tf.constant([0.5])\n",
    "b =  tf.constant([0.4])\n",
    "\n",
    "min = tf.math.reduce_min([a, b])\n",
    "print(min)\n",
    "max = tf.math.reduce_max([a, b])\n",
    "print(max)"
   ]
  },
  {
   "cell_type": "code",
   "execution_count": null,
   "metadata": {},
   "outputs": [],
   "source": []
  }
 ],
 "metadata": {
  "kernelspec": {
   "display_name": "Python 3",
   "language": "python",
   "name": "python3"
  },
  "language_info": {
   "codemirror_mode": {
    "name": "ipython",
    "version": 3
   },
   "file_extension": ".py",
   "mimetype": "text/x-python",
   "name": "python",
   "nbconvert_exporter": "python",
   "pygments_lexer": "ipython3",
   "version": "3.7.6"
  }
 },
 "nbformat": 4,
 "nbformat_minor": 4
}
