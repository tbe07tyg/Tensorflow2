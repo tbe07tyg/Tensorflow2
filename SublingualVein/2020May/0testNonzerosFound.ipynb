{
 "cells": [
  {
   "cell_type": "code",
   "execution_count": 1,
   "metadata": {},
   "outputs": [
    {
     "name": "stdout",
     "output_type": "stream",
     "text": [
      "--AA\n",
      "AA--\n",
      "tf.Tensor(\n",
      "[[[[0. 0.]\n",
      "   [0. 0.]\n",
      "   [0. 0.]\n",
      "   [0. 0.]\n",
      "   [0. 0.]]\n",
      "\n",
      "  [[0. 0.]\n",
      "   [0. 0.]\n",
      "   [0. 0.]\n",
      "   [0. 0.]\n",
      "   [0. 0.]]]\n",
      "\n",
      "\n",
      " [[[0. 0.]\n",
      "   [0. 0.]\n",
      "   [0. 0.]\n",
      "   [0. 0.]\n",
      "   [0. 0.]]\n",
      "\n",
      "  [[0. 0.]\n",
      "   [0. 0.]\n",
      "   [0. 0.]\n",
      "   [0. 0.]\n",
      "   [0. 0.]]]\n",
      "\n",
      "\n",
      " [[[0. 0.]\n",
      "   [0. 0.]\n",
      "   [0. 0.]\n",
      "   [0. 0.]\n",
      "   [0. 0.]]\n",
      "\n",
      "  [[0. 0.]\n",
      "   [0. 0.]\n",
      "   [0. 0.]\n",
      "   [0. 0.]\n",
      "   [0. 0.]]]\n",
      "\n",
      "\n",
      " [[[0. 0.]\n",
      "   [0. 0.]\n",
      "   [0. 0.]\n",
      "   [0. 0.]\n",
      "   [0. 0.]]\n",
      "\n",
      "  [[0. 0.]\n",
      "   [0. 0.]\n",
      "   [0. 0.]\n",
      "   [0. 0.]\n",
      "   [0. 0.]]]], shape=(4, 2, 5, 2), dtype=float32)\n"
     ]
    }
   ],
   "source": [
    "# test tensorflow nonzero indices\n",
    "import tensorflow as tf\n",
    "\n",
    "# tensor = tf.random.uniform([4,2,5, 2])\n",
    "tensor = tf.zeros([4,2,5, 2])\n",
    "print(tensor)"
   ]
  },
  {
   "cell_type": "code",
   "execution_count": null,
   "metadata": {},
   "outputs": [],
   "source": [
    "non_zeros =  tf.greater(tensor, 1e-7)\n",
    "print(non_zeros)"
   ]
  },
  {
   "cell_type": "code",
   "execution_count": null,
   "metadata": {},
   "outputs": [],
   "source": [
    "non_zeros =  tf.math.less(tensor, 1e-7)\n",
    "print(non_zeros)"
   ]
  },
  {
   "cell_type": "code",
   "execution_count": null,
   "metadata": {},
   "outputs": [],
   "source": [
    "non_zero_array = tf.boolean_mask(tensor, non_zeros)\n",
    "print(non_zero_array)"
   ]
  },
  {
   "cell_type": "code",
   "execution_count": 10,
   "metadata": {},
   "outputs": [
    {
     "name": "stdout",
     "output_type": "stream",
     "text": [
      "tf.Tensor([], shape=(0, 4), dtype=int64)\n",
      "tf.Tensor(True, shape=(), dtype=bool)\n",
      "empty\n"
     ]
    }
   ],
   "source": [
    "tensor = tf.zeros([4,2,5, 2])\n",
    "non_zeros =  tf.greater(tensor, 1e-7)\n",
    "indices = tf.where(non_zeros)\n",
    "print(indices)\n",
    "is_empty =  tf.equal(tf.size(indices),0)\n",
    "print(is_empty)\n",
    "\n",
    "if is_empty:\n",
    "    print(\"empty\")"
   ]
  },
  {
   "cell_type": "code",
   "execution_count": 8,
   "metadata": {},
   "outputs": [
    {
     "name": "stdout",
     "output_type": "stream",
     "text": [
      "tf.Tensor(\n",
      "[[0.25429833 0.66988635 0.18512201]\n",
      " [0.8488308  0.693854   0.31845367]], shape=(2, 3), dtype=float32)\n",
      "tf.Tensor(\n",
      "[[False  True False]\n",
      " [ True  True False]], shape=(2, 3), dtype=bool)\n",
      "tf.Tensor(3.0, shape=(), dtype=float32)\n"
     ]
    }
   ],
   "source": [
    "tensor = tf.random.uniform([2,3])\n",
    "print(tensor)\n",
    "non_zeros_bool =  tf.greater(tensor, 0.5)\n",
    "# indices = tf.where(non_zeros)\n",
    "print(non_zeros_bool)\n",
    "num_tp =  tf.math.reduce_sum(tf.cast(non_zeros_bool, tf.float32))\n",
    "print(num_tp)\n"
   ]
  },
  {
   "cell_type": "code",
   "execution_count": null,
   "metadata": {},
   "outputs": [],
   "source": [
    "row =  indices[:,1]/4\n",
    "colom =  indices[:, 2]\n",
    "# y1 =  indices[0][1]\n",
    "print(row)"
   ]
  },
  {
   "cell_type": "code",
   "execution_count": null,
   "metadata": {},
   "outputs": [],
   "source": [
    "centroidsx =  2\n",
    "centroidsy =  3"
   ]
  },
  {
   "cell_type": "code",
   "execution_count": null,
   "metadata": {},
   "outputs": [],
   "source": [
    "all_x =  indices[:, 0]\n",
    "print(all_x)\n",
    "all_y =  indices[:, 1]\n",
    "print(all_y)"
   ]
  },
  {
   "cell_type": "code",
   "execution_count": null,
   "metadata": {},
   "outputs": [],
   "source": [
    "distance_all_x= all_x -centroidsx \n",
    "print(\"distance_all_x:\", distance_all_x)"
   ]
  },
  {
   "cell_type": "code",
   "execution_count": null,
   "metadata": {},
   "outputs": [],
   "source": [
    "distnace_all_x_squre =  tf.math.square(distance_all_x)\n",
    "print(\"distnace_all_x_squre:\", distnace_all_x_squre)"
   ]
  },
  {
   "cell_type": "code",
   "execution_count": null,
   "metadata": {},
   "outputs": [],
   "source": [
    "distance_all_y =  all_y-centroidsy\n",
    "print(\"distance_all_y:\", distance_all_y)"
   ]
  },
  {
   "cell_type": "code",
   "execution_count": null,
   "metadata": {},
   "outputs": [],
   "source": [
    "distnace_all_y_squre =  tf.math.square(distance_all_y)\n",
    "print(\"distnace_all_y_squre:\", distnace_all_y_squre)"
   ]
  },
  {
   "cell_type": "code",
   "execution_count": null,
   "metadata": {},
   "outputs": [],
   "source": [
    "all_squre_distance = distnace_all_x_squre + distnace_all_y_squre\n",
    "print(\"all_squre_distance:\", all_squre_distance)"
   ]
  },
  {
   "cell_type": "code",
   "execution_count": null,
   "metadata": {},
   "outputs": [],
   "source": [
    "distances_all_nonzeros =  tf.math.sqrt(tf.cast(all_squre_distance, tf.float32))\n",
    "print(\"distances_all_nonzeros\", distances_all_nonzeros)"
   ]
  },
  {
   "cell_type": "code",
   "execution_count": null,
   "metadata": {},
   "outputs": [],
   "source": [
    "max_dis =  tf.math.reduce_max(distances_all_nonzeros)\n",
    "print(\"max_dis:\", max_dis)"
   ]
  },
  {
   "cell_type": "code",
   "execution_count": null,
   "metadata": {},
   "outputs": [],
   "source": [
    "a = tf.constant([0.5])\n",
    "b =  tf.constant([0.4])\n",
    "\n",
    "min = tf.math.reduce_min([a, b])\n",
    "print(min)\n",
    "max = tf.math.reduce_max([a, b])\n",
    "print(max)"
   ]
  },
  {
   "cell_type": "code",
   "execution_count": null,
   "metadata": {},
   "outputs": [],
   "source": []
  }
 ],
 "metadata": {
  "kernelspec": {
   "display_name": "Python 3",
   "language": "python",
   "name": "python3"
  },
  "language_info": {
   "codemirror_mode": {
    "name": "ipython",
    "version": 3
   },
   "file_extension": ".py",
   "mimetype": "text/x-python",
   "name": "python",
   "nbconvert_exporter": "python",
   "pygments_lexer": "ipython3",
   "version": "3.7.6"
  }
 },
 "nbformat": 4,
 "nbformat_minor": 4
}
