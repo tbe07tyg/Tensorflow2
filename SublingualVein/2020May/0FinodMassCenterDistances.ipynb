{
 "cells": [
  {
   "cell_type": "markdown",
   "metadata": {},
   "source": [
    "# mass center of binary image\n"
   ]
  },
  {
   "cell_type": "code",
   "execution_count": 1,
   "metadata": {},
   "outputs": [],
   "source": [
    "# binary mask path\n",
    "mask_root = \"E:\\\\dataset\\\\SublingualVein\\\\TIASRGB2020\\\\train_left_right_binary_label\\\\right\"\n",
    "one_mask_filename = \"1002dozono01 (1).png\""
   ]
  },
  {
   "cell_type": "code",
   "execution_count": 2,
   "metadata": {},
   "outputs": [
    {
     "name": "stdout",
     "output_type": "stream",
     "text": [
      "img_path: E:\\dataset\\SublingualVein\\TIASRGB2020\\train_left_right_binary_label\\right\\1002dozono01 (1).png\n"
     ]
    }
   ],
   "source": [
    "import imageio as iio\n",
    "import os \n",
    "import numpy as np\n",
    "desired_size = 224\n",
    "img_path = os.path.join(mask_root, one_mask_filename)\n",
    "print(\"img_path:\", img_path)"
   ]
  },
  {
   "cell_type": "code",
   "execution_count": 3,
   "metadata": {},
   "outputs": [
    {
     "name": "stdout",
     "output_type": "stream",
     "text": [
      "0 255\n",
      "[[0 0 0 ... 0 0 0]\n",
      " [0 0 0 ... 0 0 0]\n",
      " [0 0 0 ... 0 0 0]\n",
      " ...\n",
      " [0 0 0 ... 0 0 0]\n",
      " [0 0 0 ... 0 0 0]\n",
      " [0 0 0 ... 0 0 0]]\n",
      "<class 'numpy.ndarray'>\n",
      "(224, 224)\n",
      "properties: [<skimage.measure._regionprops.RegionProperties object at 0x0000026659995948>]\n",
      "<skimage.measure._regionprops.RegionProperties object at 0x0000026659995948>\n",
      "center_of_mass: (103.79399141630901, 124.22317596566523)\n",
      "weighted_center_of_mass: (104.05945066859414, 124.56681423924829)\n"
     ]
    }
   ],
   "source": [
    "# image =  iio.imread(img_path)\n",
    "\n",
    "# img = image.copy() # has to use this otherwise does not own its data\n",
    "# img.resize((desired_size,desired_size))\n",
    "\n",
    "# img2=  np.asarray(img)\n",
    "\n",
    "from PIL import Image\n",
    "img = np.array(Image.open(img_path).convert('L').resize((desired_size, desired_size)))\n",
    "print(img.min(), img.max())\n",
    "label = np.where(img > 0.5, 1, 0)\n",
    "print(img)\n",
    "print(type(img))\n",
    "print(img.shape)\n",
    "from skimage.measure import regionprops\n",
    "# get property by region foreground and raw image\\\n",
    "properties = regionprops(label, img)\n",
    "print(\"properties:\", properties)\n",
    "# calculate centeral of mass\n",
    "print(properties[0])\n",
    "center_of_mass =  properties[0].centroid\n",
    "weighted_center_of_mass = properties[0].weighted_centroid\n",
    "print(\"center_of_mass:\", center_of_mass)\n",
    "print(\"weighted_center_of_mass:\", weighted_center_of_mass)"
   ]
  },
  {
   "cell_type": "code",
   "execution_count": 4,
   "metadata": {},
   "outputs": [
    {
     "name": "stdout",
     "output_type": "stream",
     "text": [
      "a [0 1 2 3 4]\n"
     ]
    },
    {
     "data": {
      "text/plain": [
       "array([ 0,  1, -5,  3,  4])"
      ]
     },
     "execution_count": 4,
     "metadata": {},
     "output_type": "execute_result"
    }
   ],
   "source": [
    "a = np.arange(5)\n",
    "print(\"a\", a)\n",
    "# a[0,2] = [-0.1, -4.4]\n",
    "np.put(a, [0, 2], [-0.1, -5.5])\n",
    "a\n"
   ]
  },
  {
   "cell_type": "code",
   "execution_count": 10,
   "metadata": {},
   "outputs": [
    {
     "name": "stdout",
     "output_type": "stream",
     "text": [
      "(array([  0,   0,   0, ..., 223, 223, 223], dtype=int64), array([  0,   1,   2, ..., 221, 222, 223], dtype=int64))\n",
      "distances_rows: (233,)\n",
      "distances_columns: (233,)\n",
      "final_pos_distance: [0.06182195 0.05797193 0.05737647 0.05712472 0.05357901 0.05293415\n",
      " 0.05266117 0.05028996 0.04919893 0.04849587 0.04819776 0.04603004\n",
      " 0.04483547 0.04406285 0.04373453 0.04386049 0.05689141 0.05374876\n",
      " 0.04355128 0.04181278 0.040494   0.03963684 0.03927153 0.03941177\n",
      " 0.05390766 0.05057997 0.04743933 0.04452534 0.0395742  0.03765253\n",
      " 0.03618243 0.03522049 0.03480887 0.034967   0.04761929 0.0442691\n",
      " 0.04113113 0.03825762 0.03571248 0.03357047 0.03191288 0.03081796\n",
      " 0.03034668 0.03052794 0.03135042 0.04133856 0.0379591  0.03482483\n",
      " 0.03200789 0.02959899 0.02770479 0.02643615 0.02588521 0.02609748\n",
      " 0.02705499 0.0387022  0.03506959 0.03165047 0.02852171 0.02578921\n",
      " 0.02359106 0.0220874  0.02142493 0.0216809  0.02282445 0.03253796\n",
      " 0.02882005 0.02534424 0.02222445 0.01963113 0.01779595 0.01696674\n",
      " 0.01728885 0.01870289 0.02644424 0.02260604 0.01904281 0.01594\n",
      " 0.01361611 0.0125129  0.01294631 0.01478177 0.01758563 0.02097302\n",
      " 0.03322601 0.02891338 0.02048403 0.01646787 0.01275327 0.00969333\n",
      " 0.00807062 0.00872749 0.01127222 0.01475861 0.01866627 0.03244055\n",
      " 0.02800724 0.02358562 0.01918378 0.01481933 0.01053887 0.00651018\n",
      " 0.00368197 0.00495893 0.0086882  0.01289334 0.01722938 0.02161769\n",
      " 0.02779725 0.02333588 0.01887588 0.01441854 0.00996741 0.00553751\n",
      " 0.0013559  0.00358784 0.00798539 0.0124306  0.01688589 0.02134493\n",
      " 0.02580579 0.01960715 0.01536345 0.01129117 0.00766846 0.00547538\n",
      " 0.00640421 0.00958685 0.01351522 0.01769956 0.02199426 0.0263454\n",
      " 0.03072901 0.01743664 0.01398183 0.01126083 0.00989852 0.01044102\n",
      " 0.0126455  0.01583231 0.01952627 0.02348932 0.02760581 0.03181624\n",
      " 0.01741701 0.01531884 0.01434717 0.01472669 0.01636366 0.0189347\n",
      " 0.02211642 0.02568285 0.02949477 0.0334684  0.02365624 0.02123847\n",
      " 0.01955473 0.01880324 0.01909439 0.02038356 0.02249985 0.02523601\n",
      " 0.02841354 0.03190081 0.03560694 0.02992662 0.02733492 0.02527158\n",
      " 0.02387399 0.02326246 0.02349842 0.02455748 0.02634053 0.028713\n",
      " 0.03154218 0.0347166  0.03815015 0.04177902 0.03621196 0.03351182\n",
      " 0.03121918 0.02942945 0.0282384  0.0277233  0.0279216  0.02881856\n",
      " 0.03035232 0.03243264 0.03496211 0.03785078 0.04102285 0.04441763\n",
      " 0.04798789 0.03973167 0.03728728 0.03524112 0.03366589 0.03262984\n",
      " 0.03218511 0.03235607 0.0331332  0.03447553 0.03632046 0.03859597\n",
      " 0.04123083 0.04416077 0.04733102 0.05069652 0.05422092 0.0434254\n",
      " 0.04120074 0.03935856 0.03795459 0.03703871 0.03664751 0.03679775\n",
      " 0.0374829  0.03867456 0.04032784 0.04238877 0.04480112 0.04751139\n",
      " 0.05047162 0.05364043 0.05698305 0.04185674 0.04292715 0.04442245\n",
      " 0.04630147 0.04851968 0.05103285 0.05379966 0.05678305]\n",
      "final_pos_distance.min(), max() 0.0013559017483869968 0.06182195318018757\n",
      "nonzeros_indices: (array([ 90,  91,  91,  91,  92,  92,  92,  93,  93,  93,  93,  94,  94,\n",
      "        94,  94,  94,  95,  95,  95,  95,  95,  95,  95,  95,  96,  96,\n",
      "        96,  96,  96,  96,  96,  96,  96,  96,  97,  97,  97,  97,  97,\n",
      "        97,  97,  97,  97,  97,  97,  98,  98,  98,  98,  98,  98,  98,\n",
      "        98,  98,  98,  99,  99,  99,  99,  99,  99,  99,  99,  99,  99,\n",
      "       100, 100, 100, 100, 100, 100, 100, 100, 100, 101, 101, 101, 101,\n",
      "       101, 101, 101, 101, 101, 101, 102, 102, 102, 102, 102, 102, 102,\n",
      "       102, 102, 102, 102, 103, 103, 103, 103, 103, 103, 103, 103, 103,\n",
      "       103, 103, 103, 103, 104, 104, 104, 104, 104, 104, 104, 104, 104,\n",
      "       104, 104, 104, 104, 105, 105, 105, 105, 105, 105, 105, 105, 105,\n",
      "       105, 105, 105, 106, 106, 106, 106, 106, 106, 106, 106, 106, 106,\n",
      "       106, 107, 107, 107, 107, 107, 107, 107, 107, 107, 107, 108, 108,\n",
      "       108, 108, 108, 108, 108, 108, 108, 108, 108, 109, 109, 109, 109,\n",
      "       109, 109, 109, 109, 109, 109, 109, 109, 109, 110, 110, 110, 110,\n",
      "       110, 110, 110, 110, 110, 110, 110, 110, 110, 110, 110, 111, 111,\n",
      "       111, 111, 111, 111, 111, 111, 111, 111, 111, 111, 111, 111, 111,\n",
      "       111, 112, 112, 112, 112, 112, 112, 112, 112, 112, 112, 112, 112,\n",
      "       112, 112, 112, 112, 113, 113, 113, 113, 113, 113, 113, 113],\n",
      "      dtype=int64), array([123, 122, 123, 124, 122, 123, 124, 121, 122, 123, 124, 121, 122,\n",
      "       123, 124, 125, 115, 116, 120, 121, 122, 123, 124, 125, 115, 116,\n",
      "       117, 118, 120, 121, 122, 123, 124, 125, 116, 117, 118, 119, 120,\n",
      "       121, 122, 123, 124, 125, 126, 117, 118, 119, 120, 121, 122, 123,\n",
      "       124, 125, 126, 117, 118, 119, 120, 121, 122, 123, 124, 125, 126,\n",
      "       118, 119, 120, 121, 122, 123, 124, 125, 126, 119, 120, 121, 122,\n",
      "       123, 124, 125, 126, 127, 128, 117, 118, 120, 121, 122, 123, 124,\n",
      "       125, 126, 127, 128, 117, 118, 119, 120, 121, 122, 123, 124, 125,\n",
      "       126, 127, 128, 129, 118, 119, 120, 121, 122, 123, 124, 125, 126,\n",
      "       127, 128, 129, 130, 120, 121, 122, 123, 124, 125, 126, 127, 128,\n",
      "       129, 130, 131, 121, 122, 123, 124, 125, 126, 127, 128, 129, 130,\n",
      "       131, 122, 123, 124, 125, 126, 127, 128, 129, 130, 131, 121, 122,\n",
      "       123, 124, 125, 126, 127, 128, 129, 130, 131, 120, 121, 122, 123,\n",
      "       124, 125, 126, 127, 128, 129, 130, 131, 132, 119, 120, 121, 122,\n",
      "       123, 124, 125, 126, 127, 128, 129, 130, 131, 132, 133, 119, 120,\n",
      "       121, 122, 123, 124, 125, 126, 127, 128, 129, 130, 131, 132, 133,\n",
      "       134, 119, 120, 121, 122, 123, 124, 125, 126, 127, 128, 129, 130,\n",
      "       131, 132, 133, 134, 126, 127, 128, 129, 130, 131, 132, 133],\n",
      "      dtype=int64))\n",
      "flatted_img: (50176,) 0.0 255.0\n",
      "0.0 0.06182195318018757\n",
      "raw_centroids: (103.79399141630901, 124.22317596566523)\n",
      "Centroid_row_column: (0.46336603310852237, 0.5545677498467197)\n"
     ]
    },
    {
     "data": {
      "image/png": "[encoded data removed]",
      "text/plain": [
       "<Figure size 576x576 with 2 Axes>"
      ]
     },
     "metadata": {
      "needs_background": "light"
     },
     "output_type": "display_data"
    }
   ],
   "source": [
    "# find nonzeros positions\n",
    "import math\n",
    "import itertools\n",
    " # Return the indices of the elements that are non-zero.\n",
    "nonzeros_indices = np.nonzero(img)\n",
    "# nonzeros_indices2 = np.nonzero(img)\n",
    "zeros_indices =  np.where(img==0)\n",
    "print(zeros_indices)\n",
    "import matplotlib.pyplot as plt\n",
    "# fig, ax = plt.subplots()\n",
    "# ax.imshow(nonzeros_indices )\n",
    "# Centroid_row_column = (1-center_of_mass[1]/224, center_of_mass[0]/224)\n",
    "# distances_rows  =  (nonzeros_indices[0]/224-Centroid_row_column[0])**2\n",
    "# distances_columns =  (nonzeros_indices[1]/224 - Centroid_row_column[1])**2\n",
    "\n",
    "Centroid_row_column = (center_of_mass[0]/224, center_of_mass[1]/224)\n",
    "distances_rows  =  (nonzeros_indices[0]/224-Centroid_row_column[0])**2\n",
    "distances_columns =  (nonzeros_indices[1]/224 - Centroid_row_column[1])**2\n",
    "final_pos_distance = np.sqrt( distances_rows + distances_columns)\n",
    "\n",
    "print(\"distances_rows:\", distances_rows.shape)\n",
    "print(\"distances_columns:\", distances_columns.shape)\n",
    "# for i, j in itertools.product(range(img.shape[0]), range(img.shape[1])):\n",
    "#     img[i, j] = \n",
    "count = 0\n",
    "\n",
    "print(\"final_pos_distance:\", final_pos_distance)\n",
    "print(\"final_pos_distance.min(), max()\", final_pos_distance.min(), final_pos_distance.max())\n",
    "flatted_img=  img.flatten().astype(float)\n",
    "nonzeros_indices2 = np.nonzero(flatted_img)\n",
    "print(\"nonzeros_indices:\", nonzeros_indices)\n",
    "print(\"flatted_img:\", flatted_img.shape, flatted_img.min(), flatted_img.max())\n",
    "# np.put(flatted_img, nonzeros_indices, final_pos_distance)\n",
    "flatted_img[nonzeros_indices2]=final_pos_distance\n",
    "print(flatted_img.min(),flatted_img.max())\n",
    "flatted_img=flatted_img.reshape((224, 224))\n",
    "\n",
    "for i, j in zip(zeros_indices[0], zeros_indices[1]):\n",
    "    flatted_img[i, j] = 0.1\n",
    "    count+=1\n",
    "# cetroids_mass_distances_map = cetroids_mass_distances_map.reshape((224, 224))\n",
    "# # print(\"centroids_dis_map:\",centroids_dis_map)\n",
    "# threshold = flatted_img.max() / 2.\n",
    "figure = plt.figure(figsize=(8, 8))\n",
    "# # print(\"min max:\", img.min(), img.max())\n",
    "# for i, j in itertools.product(range(flatted_img.shape[0]), range(flatted_img.shape[1])):\n",
    "#         color = \"white\" if flatted_img[i, j] > threshold else \"black\"\n",
    "#         plt.text(j, i, \"{}({})\".format(flatted_img[i, j],flatted_img[i, j]), horizontalalignment=\"center\", color=color)\n",
    "plt.imshow(flatted_img,interpolation='nearest', cmap=plt.cm.Blues)\n",
    "# plt.scatter(center_of_mass[1], center_of_mass[0], s=160, c='C0', marker='+')\n",
    "# plt.scatter(center_of_mass[1], center_of_mass[0], marker='+')\n",
    "plt.colorbar() \n",
    "print(\"raw_centroids:\", center_of_mass)\n",
    "print(\"Centroid_row_column:\", Centroid_row_column)\n",
    "\n"
   ]
  },
  {
   "cell_type": "code",
   "execution_count": 11,
   "metadata": {},
   "outputs": [
    {
     "data": {
      "image/png": "[encoded data removed]",
      "text/plain": [
       "<Figure size 432x288 with 1 Axes>"
      ]
     },
     "metadata": {
      "needs_background": "light"
     },
     "output_type": "display_data"
    }
   ],
   "source": [
    "# plot 3d\n",
    "from mpl_toolkits.mplot3d import Axes3D  # noqa: F401 unused import\n",
    "\n",
    "import matplotlib.pyplot as plt\n",
    "from matplotlib import cm\n",
    "from matplotlib.ticker import LinearLocator, FormatStrFormatter\n",
    "import numpy as np\n",
    "fig = plt.figure()\n",
    "ax = fig.gca(projection='3d')\n",
    "X = np.arange(0, 224)\n",
    "Y = np.arange(0, 224)\n",
    "Z = flatted_img\n",
    "# Plot the surface.\n",
    "surf = ax.plot_surface(X, Y, Z, cmap=cm.coolwarm,\n",
    "                       linewidth=0, antialiased=False)\n",
    "\n",
    "ax.view_init(60, 35)"
   ]
  },
  {
   "cell_type": "code",
   "execution_count": null,
   "metadata": {},
   "outputs": [],
   "source": [
    "# show the image\n",
    "import matplotlib.pyplot as plt\n",
    "fig, ax = plt.subplots()\n",
    "ax.imshow(img )\n",
    "ax.scatter(center_of_mass[1], center_of_mass[0], s=160, c='C0', marker='+')\n",
    "fig.savefig('MaskWithCenter.png', dpi=300, transparent=False, bbox_inches='tight') "
   ]
  },
  {
   "cell_type": "code",
   "execution_count": null,
   "metadata": {},
   "outputs": [],
   "source": [
    "# find the mass center\n",
    "# file_names = [\"fileNames\"]\n",
    "# centroids_y = [\"Cy\"]\n",
    "# centroids_x = [\"Cx\"]\n",
    "def find_mass_centroid(bi_path_list, save=False, save_folder = \"\", csv_name=\"\"):\n",
    "    print(\"genrerate_mass_centroid\")\n",
    "    file_names = [\"fileNames\"]\n",
    "    centroids_y = [\"Cy\"]\n",
    "    centroids_x = [\"Cx\"]\n",
    "    \n",
    "    i=0\n",
    "    for path in bi_path_list:\n",
    "        i+=1\n",
    "        print(\"i:\", i)\n",
    "        if i % 20 ==0:\n",
    "            clear_output(wait=True)\n",
    "        print(path)\n",
    "        image = np.array(Image.open(path).convert('L').resize((desired_size, desired_size)))\n",
    "        label = np.where(image > 0.5, 1, 0)\n",
    "        num_zeros =  np.count_nonzero(image)\n",
    "        if num_zeros >0:\n",
    "            file_name = os.path.basename(path)\n",
    "            \n",
    "            properties = regionprops(label, image)\n",
    "            center_of_mass =  properties[0].centroid\n",
    "            fig, ax = plt.subplots()\n",
    "            ax.imshow(image)\n",
    "            ax.scatter(center_of_mass[1], center_of_mass[0], s=160, c='C0', marker='+')\n",
    "            yc =  center_of_mass[0]/desired_size\n",
    "            xc =  center_of_mass[1]/desired_size\n",
    "            # append to the data list\n",
    "            file_names.append(file_name)\n",
    "            centroids_y.append(yc)\n",
    "            centroids_x.append(xc)\n",
    "#             print(\"centroid_np.shape\", centroid_np.shape)\n",
    "\n",
    "            if save==True:\n",
    "                print(\"save_folder:\", save_folder)\n",
    "                print(\"file_name:\", file_name)\n",
    "                save_path = os.path.join(save_folder, file_name)\n",
    "                print(\"save_path:\", save_path)\n",
    "                fig.savefig(save_path, dpi=300, transparent=False, bbox_inches='tight') \n",
    "        \n",
    "        else:\n",
    "\n",
    "            file_name = os.path.basename(path)\n",
    "            file_names.append(file_name)\n",
    "#             csv_nam\n",
    "            yc = 0\n",
    "            xc = 0\n",
    "            centroids_y.append(yc)\n",
    "            centroids_x.append(xc)\n",
    "        csv_save_path =  os.path.join(save_folder, csv_name)\n",
    "        print(\"csv_save_path:\", csv_save_path)\n",
    "        np.savetxt(csv_save_path, [p for p in zip(file_names, centroids_y,centroids_x)], delimiter=',', fmt='%s')\n",
    "    "
   ]
  },
  {
   "cell_type": "code",
   "execution_count": null,
   "metadata": {},
   "outputs": [],
   "source": [
    "# Train_left_binaris\n",
    "from glob import glob\n",
    "from IPython.display import clear_output\n",
    "\n",
    "Tr_left_bi_root = \"E:\\\\dataset\\\\SublingualVein\\\\TIASRGB2020\\\\train_left_right_binary_label\\\\left\"\n",
    "raw_left_labels_paths =  sorted(glob(Tr_left_bi_root+ \"/*.png\"))\n",
    "print(\"num of left_labels loaded:\" , len(raw_left_labels_paths))\n",
    "output_path =\"E:\\\\dataset\\\\SublingualVein\\\\TIASRGB2020\\\\train_left_right_binary_label\\\\left_with_mass_centroid\"\n",
    "\n",
    "find_mass_centroid(raw_left_labels_paths, save = True, save_folder = output_path, csv_name = \"train_left.csv\")"
   ]
  },
  {
   "cell_type": "code",
   "execution_count": null,
   "metadata": {},
   "outputs": [],
   "source": [
    "# clean sk\n",
    "# You can use IPython.display.clear_output to clear the output of a cell.\n"
   ]
  },
  {
   "cell_type": "code",
   "execution_count": null,
   "metadata": {},
   "outputs": [],
   "source": [
    "# Train_right_binaris\n",
    "from glob import glob\n",
    "Tr_right_bi_root = \"E:\\\\dataset\\\\SublingualVein\\\\TIASRGB2020\\\\train_left_right_binary_label\\\\right\"\n",
    "raw_right_paths =  sorted(glob(Tr_right_bi_root+ \"/*.png\"))\n",
    "print(\"num of left_labels loaded:\" , len(raw_left_labels_paths))\n",
    "output_path =\"E:\\\\dataset\\\\SublingualVein\\\\TIASRGB2020\\\\train_left_right_binary_label\\\\right_with_mass_centroid\"\n",
    "find_mass_centroid(raw_right_paths, save = True, save_folder = output_path, csv_name = \"train_right.csv\")"
   ]
  },
  {
   "cell_type": "code",
   "execution_count": null,
   "metadata": {},
   "outputs": [],
   "source": [
    "# Val_right_binaris\n",
    "from glob import glob\n",
    "Va_left_bi_root = \"E:\\\\dataset\\\\SublingualVein\\\\TIASRGB2020\\\\val_left_right_binary_label\\\\left\"\n",
    "raw_left_paths =  sorted(glob(Va_left_bi_root+ \"/*.png\"))\n",
    "print(\"num of left_labels loaded:\" , len(raw_left_paths))\n",
    "output_path =\"E:\\\\dataset\\\\SublingualVein\\\\TIASRGB2020\\\\val_left_right_binary_label\\\\left_with_mass_centroid\"\n",
    "find_mass_centroid(raw_left_paths, save = True, save_folder = output_path, csv_name = \"val_left.csv\")"
   ]
  },
  {
   "cell_type": "code",
   "execution_count": null,
   "metadata": {},
   "outputs": [],
   "source": [
    "# Val_right_binaris\n",
    "from glob import glob\n",
    "Tr_right_bi_root = \"E:\\\\dataset\\\\SublingualVein\\\\TIASRGB2020\\\\val_left_right_binary_label\\\\right\"\n",
    "raw_right_paths =  sorted(glob(Tr_right_bi_root+ \"/*.png\"))\n",
    "print(\"num of left_labels loaded:\" , len(raw_left_labels_paths))\n",
    "output_path =\"E:\\\\dataset\\\\SublingualVein\\\\TIASRGB2020\\\\val_left_right_binary_label\\\\right_with_mass_centroid\"\n",
    "find_mass_centroid(raw_right_paths, save = True, save_folder = output_path, csv_name = \"val_right.csv\")"
   ]
  },
  {
   "cell_type": "code",
   "execution_count": null,
   "metadata": {},
   "outputs": [],
   "source": []
  }
 ],
 "metadata": {
  "kernelspec": {
   "display_name": "Python 3",
   "language": "python",
   "name": "python3"
  },
  "language_info": {
   "codemirror_mode": {
    "name": "ipython",
    "version": 3
   },
   "file_extension": ".py",
   "mimetype": "text/x-python",
   "name": "python",
   "nbconvert_exporter": "python",
   "pygments_lexer": "ipython3",
   "version": "3.7.6"
  }
 },
 "nbformat": 4,
 "nbformat_minor": 4
}
