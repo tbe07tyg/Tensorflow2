{
 "cells": [
  {
   "cell_type": "code",
   "execution_count": null,
   "metadata": {},
   "outputs": [],
   "source": [
    "csv_path= \"E:\\\\dataset\\\\SublingualVein\\\\TIASRGB2020\\\\train_left_right_binary_label\\\\left_with_mass_centroid\\\\train_left.csv\""
   ]
  },
  {
   "cell_type": "code",
   "execution_count": null,
   "metadata": {},
   "outputs": [],
   "source": [
    "import tensorflow as tf\n",
    "csv_records = tf.data.TextLineDataset(csv_path).skip(1) # skip the first line of records\n",
    "# csv_bytes = tf.io.read_file(csv_path)\n",
    "print(\"csv_records:\", csv_records)"
   ]
  },
  {
   "cell_type": "code",
   "execution_count": null,
   "metadata": {},
   "outputs": [],
   "source": [
    "FIELD_DEFAULTS = [[\"0.0\"], [0.0], [0.0]]\n",
    "Columns =  ['fileNames',  'Cy', 'Cx']\n",
    "def _parse_line(line):\n",
    "    # Decode the line into its fields\n",
    "    fields = tf.io.decode_csv(line, FIELD_DEFAULTS)\n",
    "\n",
    "    # Pack the result into a dictionary\n",
    "    features = dict(zip(Columns,fields))\n",
    "\n",
    "    # Separate the label from the features\n",
    "    C_y = features.pop('Cy')\n",
    "    C_x = features.pop('Cx')\n",
    "# #     return fields\n",
    "#     return features\n",
    "    return C_y, C_x"
   ]
  },
  {
   "cell_type": "code",
   "execution_count": null,
   "metadata": {},
   "outputs": [],
   "source": [
    "trainset = csv_records.map(_parse_line)"
   ]
  },
  {
   "cell_type": "code",
   "execution_count": null,
   "metadata": {},
   "outputs": [],
   "source": [
    "print(trainset)"
   ]
  },
  {
   "cell_type": "code",
   "execution_count": null,
   "metadata": {},
   "outputs": [],
   "source": [
    "for sample in trainset.take(2):\n",
    "#     print(sample[0])\n",
    "#     print(sample[1])\n",
    "    \n",
    "    print(sample)\n",
    "#     print(sample)"
   ]
  },
  {
   "cell_type": "code",
   "execution_count": null,
   "metadata": {},
   "outputs": [],
   "source": []
  }
 ],
 "metadata": {
  "kernelspec": {
   "display_name": "Python 3",
   "language": "python",
   "name": "python3"
  },
  "language_info": {
   "codemirror_mode": {
    "name": "ipython",
    "version": 3
   },
   "file_extension": ".py",
   "mimetype": "text/x-python",
   "name": "python",
   "nbconvert_exporter": "python",
   "pygments_lexer": "ipython3",
   "version": "3.7.6"
  }
 },
 "nbformat": 4,
 "nbformat_minor": 4
}
