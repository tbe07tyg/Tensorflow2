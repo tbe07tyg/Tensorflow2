{
 "cells": [
  {
   "cell_type": "markdown",
   "metadata": {},
   "source": [
    "# mass center of binary image\n"
   ]
  },
  {
   "cell_type": "code",
   "execution_count": 3,
   "metadata": {},
   "outputs": [],
   "source": [
    "# binary mask path\n",
    "mask_root = \"E:\\\\dataset\\\\SublingualVein\\\\TIASRGB2020\\\\train_left_right_binary_label\\\\right\"\n",
    "one_mask_filename = \"1002dozono01 (1).png\""
   ]
  },
  {
   "cell_type": "code",
   "execution_count": 7,
   "metadata": {},
   "outputs": [
    {
     "name": "stdout",
     "output_type": "stream",
     "text": [
      "img_path: E:\\dataset\\SublingualVein\\TIASRGB2020\\train_left_right_binary_label\\right\\1002dozono01 (1).png\n"
     ]
    }
   ],
   "source": [
    "import imageio as iio\n",
    "import os \n",
    "img_path = os.path.join(mask_root, one_mask_filename)\n",
    "print(\"img_path:\", img_path)"
   ]
  },
  {
   "cell_type": "code",
   "execution_count": 20,
   "metadata": {},
   "outputs": [
    {
     "name": "stdout",
     "output_type": "stream",
     "text": [
      "<class 'imageio.core.util.Array'>\n",
      "properties: [<skimage.measure._regionprops.RegionProperties object at 0x000002203324DB88>]\n",
      "<skimage.measure._regionprops.RegionProperties object at 0x000002203324DB88>\n",
      "center_of_mass: (895.7195309227977, 602.5226860254083)\n",
      "weighted_center_of_mass: (895.7195309227977, 602.5226860254083)\n"
     ]
    }
   ],
   "source": [
    "image =  iio.imread(img_path)\n",
    "print(type(image))\n",
    "from skimage.measure import regionprops\n",
    "# get property by region foreground and raw image\\\n",
    "properties = regionprops(image, image)\n",
    "print(\"properties:\", properties)\n",
    "# calculate centeral of mass\n",
    "print(properties[0])\n",
    "center_of_mass =  properties[0].centroid\n",
    "weighted_center_of_mass = properties[0].weighted_centroid\n",
    "print(\"center_of_mass:\", center_of_mass)\n",
    "print(\"weighted_center_of_mass:\", weighted_center_of_mass)"
   ]
  },
  {
   "cell_type": "code",
   "execution_count": 21,
   "metadata": {},
   "outputs": [
    {
     "data": {
      "text/plain": [
       "<matplotlib.collections.PathCollection at 0x220327a7788>"
      ]
     },
     "execution_count": 21,
     "metadata": {},
     "output_type": "execute_result"
    },
    {
     "data": {
      "image/png": "[encoded data removed]",
      "text/plain": [
       "<Figure size 432x288 with 1 Axes>"
      ]
     },
     "metadata": {
      "needs_background": "light"
     },
     "output_type": "display_data"
    }
   ],
   "source": [
    "# show the image\n",
    "import matplotlib.pyplot as plt\n",
    "fig, ax = plt.subplots()\n",
    "ax.imshow(image, )\n",
    "ax.scatter(center_of_mass[1], center_of_mass[0], s=160, c='C0', marker='+')\n",
    " "
   ]
  },
  {
   "cell_type": "code",
   "execution_count": null,
   "metadata": {},
   "outputs": [],
   "source": []
  }
 ],
 "metadata": {
  "kernelspec": {
   "display_name": "Python 3",
   "language": "python",
   "name": "python3"
  },
  "language_info": {
   "codemirror_mode": {
    "name": "ipython",
    "version": 3
   },
   "file_extension": ".py",
   "mimetype": "text/x-python",
   "name": "python",
   "nbconvert_exporter": "python",
   "pygments_lexer": "ipython3",
   "version": "3.7.6"
  }
 },
 "nbformat": 4,
 "nbformat_minor": 4
}
