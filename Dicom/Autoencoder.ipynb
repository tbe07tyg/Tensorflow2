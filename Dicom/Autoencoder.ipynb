{
 "cells": [
  {
   "cell_type": "code",
   "execution_count": 1,
   "metadata": {},
   "outputs": [
    {
     "name": "stdout",
     "output_type": "stream",
     "text": [
      "2.1.0\n"
     ]
    }
   ],
   "source": [
    "from tensorflow.keras.utils import to_categorical\n",
    "from tensorflow.keras.datasets import fashion_mnist, mnist\n",
    "from tensorflow.keras.models import Sequential\n",
    "from tensorflow.keras.layers import Dense, Flatten, Conv2D, MaxPooling2D, Reshape, Dropout, UpSampling2D\n",
    "from tensorflow.keras.callbacks import LambdaCallback\n",
    "import numpy as np\n",
    "from tensorflow import keras\n",
    "import tensorflow as tf\n",
    "# import wandb\n",
    "# from wandb.keras import WandbCallback\n",
    "print(tf.__version__)"
   ]
  },
  {
   "cell_type": "code",
   "execution_count": 2,
   "metadata": {},
   "outputs": [],
   "source": [
    "# hyperparameter\n",
    "encoding_size = 32"
   ]
  },
  {
   "cell_type": "code",
   "execution_count": 3,
   "metadata": {},
   "outputs": [],
   "source": [
    "\n",
    "# add noise func\n",
    "\n",
    "def add_noise(x_train, x_test):\n",
    "    # Function to add some random noise\n",
    "    noise_factor = 1.0\n",
    "    x_train_noisy = x_train + np.random.normal(loc=0.0, scale=noise_factor, size=x_train.shape) \n",
    "    x_test_noisy = x_test + np.random.normal(loc=0.0, scale=noise_factor, size=x_test.shape) \n",
    "    \n",
    "    x_train_noisy = np.clip(x_train_noisy, 0., 1.)\n",
    "    x_test_noisy = np.clip(x_test_noisy, 0., 1.)\n",
    "    return x_train_noisy, x_test_noisy\n",
    "# from tensorflow import kerast_noisy"
   ]
  },
  {
   "cell_type": "code",
   "execution_count": 4,
   "metadata": {},
   "outputs": [
    {
     "name": "stdout",
     "output_type": "stream",
     "text": [
      "train shape: (60000, 28, 28)\n",
      "test shape: (10000, 28, 28)\n",
      "img_width: 28\n",
      "img_height: 28\n"
     ]
    }
   ],
   "source": [
    "# (x_train, _), (x_test, _) = fashion_mnist.load_data()\n",
    "(x_train, _), (x_test, _) = mnist.load_data()\n",
    "(x_train_noisy, x_test_noisy) = add_noise(x_train, x_test)\n",
    "img_width = x_train.shape[1]\n",
    "img_height = x_test.shape[2]\n",
    "print(\"train shape:\", x_train.shape)\n",
    "print(\"test shape:\", x_test.shape)\n",
    "print(\"img_width:\", img_width)\n",
    "print(\"img_height:\", img_height)"
   ]
  },
  {
   "cell_type": "code",
   "execution_count": 5,
   "metadata": {},
   "outputs": [
    {
     "name": "stdout",
     "output_type": "stream",
     "text": [
      "Model: \"sequential\"\n",
      "_________________________________________________________________\n",
      "Layer (type)                 Output Shape              Param #   \n",
      "=================================================================\n",
      "flatten (Flatten)            (None, 784)               0         \n",
      "_________________________________________________________________\n",
      "dense (Dense)                (None, 32)                25120     \n",
      "_________________________________________________________________\n",
      "dense_1 (Dense)              (None, 784)               25872     \n",
      "_________________________________________________________________\n",
      "reshape (Reshape)            (None, 28, 28)            0         \n",
      "=================================================================\n",
      "Total params: 50,992\n",
      "Trainable params: 50,992\n",
      "Non-trainable params: 0\n",
      "_________________________________________________________________\n",
      "Failed to import pydot. You must install pydot and graphviz for `pydotprint` to work.\n"
     ]
    }
   ],
   "source": [
    "#normalize\n",
    "x_train = x_train / 255.\n",
    "x_test = x_test / 255.\n",
    "# create model\n",
    "model = Sequential()\n",
    "model.add(Flatten(input_shape=(img_width, img_height)))\n",
    "model.add(Dense(encoding_size, activation=\"relu\"))\n",
    "model.add(Dense(img_width*img_height, activation=\"sigmoid\"))\n",
    "model.add(Reshape((img_width, img_height)))\n",
    "model.compile(loss='mse', optimizer='adam',\n",
    "              metrics=['mse'])\n",
    "model.summary()\n",
    "keras.utils.plot_model(model, show_shapes=True, dpi=200, expand_nested=True)"
   ]
  },
  {
   "cell_type": "code",
   "execution_count": 6,
   "metadata": {},
   "outputs": [],
   "source": [
    "# add the image call back\n",
    "import os\n",
    "from datetime import datetime\n",
    "logdir =  os.path.join(\"logs\",\"image\" + datetime.now().strftime(\"%Y%m%d-%H%M%S\"))\n",
    "# Define the basic TensorBoard callback.\n",
    "tensorboard_callback = keras.callbacks.TensorBoard(log_dir=logdir)\n",
    "file_writer_img = tf.summary.create_file_writer(logdir + '/img')\n",
    "\n",
    "def draw_input_output(epoch, logs):\n",
    "    output = model.predict(x_test_noisy)\n",
    "    print(output.shape)\n",
    "    with file_writer_img.as_default():\n",
    "        tf.summary.image(\"test_output\", tf.reshape(output,[-1, 28, 28, 1]), step=epoch)\n",
    "        tf.summary.image(\"test_noisy_input\", tf.reshape(x_test_noisy,[-1, 28, 28, 1]), step=epoch)\n",
    "        tf.summary.image(\"test_input\", tf.reshape(x_test,[-1, 28, 28, 1]), step=epoch)\n",
    "log_mg = keras.callbacks.LambdaCallback(on_epoch_end=draw_input_output)"
   ]
  },
  {
   "cell_type": "code",
   "execution_count": 7,
   "metadata": {},
   "outputs": [
    {
     "name": "stdout",
     "output_type": "stream",
     "text": [
      "Train on 60000 samples, validate on 10000 samples\n",
      "Epoch 1/30\n",
      "59648/60000 [============================>.] - ETA: 0s - loss: 0.0394 - mse: 0.0394(10000, 28, 28)\n",
      "60000/60000 [==============================] - 5s 79us/sample - loss: 0.0393 - mse: 0.0393 - val_loss: 0.0256 - val_mse: 0.0256\n",
      "Epoch 2/30\n",
      "59072/60000 [============================>.] - ETA: 0s - loss: 0.0231 - mse: 0.0231(10000, 28, 28)\n",
      "60000/60000 [==============================] - 4s 66us/sample - loss: 0.0231 - mse: 0.0231 - val_loss: 0.0209 - val_mse: 0.0209\n",
      "Epoch 3/30\n",
      "59104/60000 [============================>.] - ETA: 0s - loss: 0.0208 - mse: 0.0208(10000, 28, 28)\n",
      "60000/60000 [==============================] - 4s 69us/sample - loss: 0.0208 - mse: 0.0208 - val_loss: 0.0201 - val_mse: 0.0201\n",
      "Epoch 4/30\n",
      "59328/60000 [============================>.] - ETA: 0s - loss: 0.0204 - mse: 0.0204(10000, 28, 28)\n",
      "60000/60000 [==============================] - 4s 67us/sample - loss: 0.0204 - mse: 0.0204 - val_loss: 0.0201 - val_mse: 0.0201\n",
      "Epoch 5/30\n",
      "59520/60000 [============================>.] - ETA: 0s - loss: 0.0202 - mse: 0.0202(10000, 28, 28)\n",
      "60000/60000 [==============================] - 4s 65us/sample - loss: 0.0202 - mse: 0.0202 - val_loss: 0.0198 - val_mse: 0.0198\n",
      "Epoch 6/30\n",
      "59968/60000 [============================>.] - ETA: 0s - loss: 0.0200 - mse: 0.0200(10000, 28, 28)\n",
      "60000/60000 [==============================] - 4s 69us/sample - loss: 0.0200 - mse: 0.0200 - val_loss: 0.0196 - val_mse: 0.0196\n",
      "Epoch 7/30\n",
      "59776/60000 [============================>.] - ETA: 0s - loss: 0.0199 - mse: 0.0199(10000, 28, 28)\n",
      "60000/60000 [==============================] - 4s 68us/sample - loss: 0.0199 - mse: 0.0199 - val_loss: 0.0196 - val_mse: 0.0196\n",
      "Epoch 8/30\n",
      "59904/60000 [============================>.] - ETA: 0s - loss: 0.0198 - mse: 0.0198(10000, 28, 28)\n",
      "60000/60000 [==============================] - 4s 67us/sample - loss: 0.0198 - mse: 0.0198 - val_loss: 0.0194 - val_mse: 0.0194\n",
      "Epoch 9/30\n",
      "59264/60000 [============================>.] - ETA: 0s - loss: 0.0197 - mse: 0.0197(10000, 28, 28)\n",
      "60000/60000 [==============================] - 4s 67us/sample - loss: 0.0197 - mse: 0.0197 - val_loss: 0.0194 - val_mse: 0.0194\n",
      "Epoch 10/30\n",
      "59872/60000 [============================>.] - ETA: 0s - loss: 0.0195 - mse: 0.0195(10000, 28, 28)\n",
      "60000/60000 [==============================] - 4s 68us/sample - loss: 0.0195 - mse: 0.0195 - val_loss: 0.0192 - val_mse: 0.0192\n",
      "Epoch 11/30\n",
      "59200/60000 [============================>.] - ETA: 0s - loss: 0.0194 - mse: 0.0194(10000, 28, 28)\n",
      "60000/60000 [==============================] - 4s 68us/sample - loss: 0.0194 - mse: 0.0194 - val_loss: 0.0192 - val_mse: 0.0192\n",
      "Epoch 12/30\n",
      "59776/60000 [============================>.] - ETA: 0s - loss: 0.0193 - mse: 0.0193(10000, 28, 28)\n",
      "60000/60000 [==============================] - 4s 67us/sample - loss: 0.0193 - mse: 0.0193 - val_loss: 0.0190 - val_mse: 0.0190\n",
      "Epoch 13/30\n",
      "59840/60000 [============================>.] - ETA: 0s - loss: 0.0191 - mse: 0.0191(10000, 28, 28)\n",
      "60000/60000 [==============================] - 4s 69us/sample - loss: 0.0192 - mse: 0.0192 - val_loss: 0.0189 - val_mse: 0.0189\n",
      "Epoch 14/30\n",
      "59936/60000 [============================>.] - ETA: 0s - loss: 0.0191 - mse: 0.0191(10000, 28, 28)\n",
      "60000/60000 [==============================] - 4s 68us/sample - loss: 0.0191 - mse: 0.0191 - val_loss: 0.0191 - val_mse: 0.0191\n",
      "Epoch 15/30\n",
      "59392/60000 [============================>.] - ETA: 0s - loss: 0.0190 - mse: 0.0190(10000, 28, 28)\n",
      "60000/60000 [==============================] - 4s 67us/sample - loss: 0.0190 - mse: 0.0190 - val_loss: 0.0185 - val_mse: 0.0185\n",
      "Epoch 16/30\n",
      "59840/60000 [============================>.] - ETA: 0s - loss: 0.0189 - mse: 0.0189(10000, 28, 28)\n",
      "60000/60000 [==============================] - 4s 68us/sample - loss: 0.0189 - mse: 0.0189 - val_loss: 0.0185 - val_mse: 0.0185\n",
      "Epoch 17/30\n",
      "59328/60000 [============================>.] - ETA: 0s - loss: 0.0188 - mse: 0.0188(10000, 28, 28)\n",
      "60000/60000 [==============================] - 4s 67us/sample - loss: 0.0188 - mse: 0.0188 - val_loss: 0.0185 - val_mse: 0.0185\n",
      "Epoch 18/30\n",
      "59872/60000 [============================>.] - ETA: 0s - loss: 0.0188 - mse: 0.0188(10000, 28, 28)\n",
      "60000/60000 [==============================] - 4s 70us/sample - loss: 0.0188 - mse: 0.0188 - val_loss: 0.0184 - val_mse: 0.0184\n",
      "Epoch 19/30\n",
      "59552/60000 [============================>.] - ETA: 0s - loss: 0.0188 - mse: 0.0188(10000, 28, 28)\n",
      "60000/60000 [==============================] - 4s 72us/sample - loss: 0.0188 - mse: 0.0188 - val_loss: 0.0184 - val_mse: 0.0184\n",
      "Epoch 20/30\n",
      "59104/60000 [============================>.] - ETA: 0s - loss: 0.0187 - mse: 0.0187(10000, 28, 28)\n",
      "60000/60000 [==============================] - 4s 66us/sample - loss: 0.0187 - mse: 0.0187 - val_loss: 0.0184 - val_mse: 0.0184\n",
      "Epoch 21/30\n",
      "59072/60000 [============================>.] - ETA: 0s - loss: 0.0187 - mse: 0.0187(10000, 28, 28)\n",
      "60000/60000 [==============================] - 4s 65us/sample - loss: 0.0187 - mse: 0.0187 - val_loss: 0.0184 - val_mse: 0.0184\n",
      "Epoch 22/30\n",
      "59488/60000 [============================>.] - ETA: 0s - loss: 0.0187 - mse: 0.0187(10000, 28, 28)\n",
      "60000/60000 [==============================] - 4s 68us/sample - loss: 0.0187 - mse: 0.0187 - val_loss: 0.0183 - val_mse: 0.0183\n",
      "Epoch 23/30\n",
      "59296/60000 [============================>.] - ETA: 0s - loss: 0.0186 - mse: 0.0186(10000, 28, 28)\n",
      "60000/60000 [==============================] - 4s 68us/sample - loss: 0.0186 - mse: 0.0186 - val_loss: 0.0185 - val_mse: 0.0185\n",
      "Epoch 24/30\n",
      "59968/60000 [============================>.] - ETA: 0s - loss: 0.0186 - mse: 0.0186(10000, 28, 28)\n",
      "60000/60000 [==============================] - 4s 66us/sample - loss: 0.0186 - mse: 0.0186 - val_loss: 0.0183 - val_mse: 0.0183\n",
      "Epoch 25/30\n",
      "59776/60000 [============================>.] - ETA: 0s - loss: 0.0186 - mse: 0.0186(10000, 28, 28)\n",
      "60000/60000 [==============================] - 4s 66us/sample - loss: 0.0186 - mse: 0.0186 - val_loss: 0.0185 - val_mse: 0.0185\n",
      "Epoch 26/30\n",
      "59232/60000 [============================>.] - ETA: 0s - loss: 0.0186 - mse: 0.0186(10000, 28, 28)\n",
      "60000/60000 [==============================] - 4s 71us/sample - loss: 0.0186 - mse: 0.0186 - val_loss: 0.0183 - val_mse: 0.0183\n",
      "Epoch 27/30\n",
      "59104/60000 [============================>.] - ETA: 0s - loss: 0.0186 - mse: 0.0186(10000, 28, 28)\n",
      "60000/60000 [==============================] - 4s 68us/sample - loss: 0.0186 - mse: 0.0186 - val_loss: 0.0183 - val_mse: 0.0183\n",
      "Epoch 28/30\n",
      "59904/60000 [============================>.] - ETA: 0s - loss: 0.0186 - mse: 0.0186(10000, 28, 28)\n",
      "60000/60000 [==============================] - 4s 71us/sample - loss: 0.0186 - mse: 0.0186 - val_loss: 0.0182 - val_mse: 0.0182\n",
      "Epoch 29/30\n",
      "59840/60000 [============================>.] - ETA: 0s - loss: 0.0186 - mse: 0.0186(10000, 28, 28)\n",
      "60000/60000 [==============================] - 4s 74us/sample - loss: 0.0186 - mse: 0.0186 - val_loss: 0.0182 - val_mse: 0.0182\n",
      "Epoch 30/30\n",
      "59776/60000 [============================>.] - ETA: 0s - loss: 0.0186 - mse: 0.0186(10000, 28, 28)\n",
      "60000/60000 [==============================] - 5s 78us/sample - loss: 0.0186 - mse: 0.0186 - val_loss: 0.0183 - val_mse: 0.0183\n"
     ]
    },
    {
     "data": {
      "text/plain": [
       "<tensorflow.python.keras.callbacks.History at 0x7fd698a22d10>"
      ]
     },
     "execution_count": 7,
     "metadata": {},
     "output_type": "execute_result"
    }
   ],
   "source": [
    "# Fit the model\n",
    "\n",
    "model.fit(x_train_noisy, x_train, epochs=30, validation_data=(x_test_noisy, x_test),\n",
    "          callbacks=[tensorboard_callback, log_mg])"
   ]
  },
  {
   "cell_type": "code",
   "execution_count": null,
   "metadata": {},
   "outputs": [],
   "source": []
  },
  {
   "cell_type": "code",
   "execution_count": null,
   "metadata": {},
   "outputs": [],
   "source": []
  },
  {
   "cell_type": "code",
   "execution_count": null,
   "metadata": {},
   "outputs": [],
   "source": []
  },
  {
   "cell_type": "code",
   "execution_count": null,
   "metadata": {},
   "outputs": [],
   "source": []
  }
 ],
 "metadata": {
  "kernelspec": {
   "display_name": "Python 3",
   "language": "python",
   "name": "python3"
  },
  "language_info": {
   "codemirror_mode": {
    "name": "ipython",
    "version": 3
   },
   "file_extension": ".py",
   "mimetype": "text/x-python",
   "name": "python",
   "nbconvert_exporter": "python",
   "pygments_lexer": "ipython3",
   "version": "3.7.6"
  }
 },
 "nbformat": 4,
 "nbformat_minor": 4
}
