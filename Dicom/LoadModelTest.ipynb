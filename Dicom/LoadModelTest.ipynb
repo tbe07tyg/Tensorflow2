{
 "cells": [
  {
   "cell_type": "markdown",
   "metadata": {},
   "source": [
    "## for testing load model from saved checkpoint"
   ]
  },
  {
   "cell_type": "code",
   "execution_count": 1,
   "metadata": {},
   "outputs": [],
   "source": [
    "import tensorflow as tf\n",
    "from tensorflow import keras\n",
    "import os\n",
    "# define the encoder as previous definition"
   ]
  },
  {
   "cell_type": "code",
   "execution_count": 2,
   "metadata": {},
   "outputs": [],
   "source": [
    "(train_images, train_labels), (test_images, test_labels) = tf.keras.datasets.mnist.load_data()\n",
    "\n",
    "train_labels = train_labels[:1000]\n",
    "test_labels = test_labels[:1000]\n",
    "\n",
    "train_images = train_images[:1000].reshape(-1, 28 * 28) / 255.0\n",
    "test_images = test_images[:1000].reshape(-1, 28 * 28) / 255.0"
   ]
  },
  {
   "cell_type": "code",
   "execution_count": 9,
   "metadata": {},
   "outputs": [],
   "source": [
    "# Define  model\n",
    "IMG_HEIGHT=IMG_WIDTH =28\n",
    "latent_dim =10\n",
    "# model input conponents\n",
    "en_inputs = tf.keras.layers.Input(shape=[IMG_HEIGHT,IMG_HEIGHT,1])\n",
    "de_inputs = tf.keras.layers.Input(shape=[latent_dim])\n",
    "# full model design and construct encoder, decoder , AE object\n",
    "# entire model\n",
    "\n",
    "# Define encoder part ---->\n",
    "x = en_inputs\n",
    "x = tf.keras.layers.Conv2D(\n",
    "                filters=16, kernel_size=3, strides=(1, 1), activation='relu', padding=\"same\")(x)\n",
    "x = tf.keras.layers.Conv2D(\n",
    "                filters=32, kernel_size=3, strides=(2, 2), activation='relu', padding=\"same\")(x)\n",
    "x = tf.keras.layers.Conv2D(\n",
    "                filters=64, kernel_size=3, strides=(2, 2), activation='relu', padding=\"SAME\")(x)\n",
    "x = tf.keras.layers.Conv2D(\n",
    "                filters=128, kernel_size=3, strides=(2, 2), activation='relu',padding=\"SAME\")(x)\n",
    "x = tf.keras.layers.Flatten()(x)\n",
    "# No activation\n",
    "latent_v = tf.keras.layers.Dense(latent_dim)(x)\n",
    "encoder = tf.keras.Model(inputs=en_inputs, outputs=latent_v, name='encoder')\n",
    "\n",
    "\n",
    "# Define decoder part ---->\n",
    "x = tf.keras.layers.Dense(units=2048, activation=tf.nn.relu)(de_inputs)\n",
    "x = tf.keras.layers.Reshape(target_shape=(32, 32, 128))(x)\n",
    "x = tf.keras.layers.Conv2DTranspose(\n",
    "      filters=64,\n",
    "      kernel_size=3,\n",
    "      strides=(2, 2),\n",
    "      padding=\"SAME\",\n",
    "      activation='relu')(x)\n",
    "x = tf.keras.layers.Conv2DTranspose(\n",
    "      filters=32,\n",
    "      kernel_size=3,\n",
    "      strides=(2, 2),\n",
    "      padding=\"SAME\",\n",
    "      activation='relu')(x)\n",
    "x = tf.keras.layers.Conv2DTranspose(\n",
    "      filters=16,\n",
    "      kernel_size=3,\n",
    "      strides=(2, 2),\n",
    "      padding=\"SAME\",\n",
    "      activation='relu')(x)\n",
    "\n",
    "decoded = tf.keras.layers.Conv2DTranspose(\n",
    "      filters=1, kernel_size=3, strides=(1, 1), padding=\"SAME\", use_bias=True)(x)\n",
    "# output with sigmoid\n",
    "decoded =  tf.sigmoid(decoded)\n",
    "decoder = tf.keras.Model(inputs=de_inputs, outputs=decoded, name='decoder')\n",
    "\n",
    "\n",
    "# Define AE model---->\n",
    "outputs = decoder(latent_v)\n",
    "autoencoder =  tf.keras.Model(inputs=en_inputs, outputs=outputs, name='AE')"
   ]
  },
  {
   "cell_type": "code",
   "execution_count": 10,
   "metadata": {},
   "outputs": [
    {
     "data": {
      "image/png": "[encoded data removed]",
      "text/plain": [
       "<IPython.core.display.Image object>"
      ]
     },
     "execution_count": 10,
     "metadata": {},
     "output_type": "execute_result"
    }
   ],
   "source": [
    "tf.keras.utils.plot_model(encoder, to_file=\"Encoder.png\", show_shapes=True, dpi=64)"
   ]
  },
  {
   "cell_type": "code",
   "execution_count": 11,
   "metadata": {},
   "outputs": [
    {
     "data": {
      "image/png": "[encoded data removed]",
      "text/plain": [
       "<IPython.core.display.Image object>"
      ]
     },
     "execution_count": 11,
     "metadata": {},
     "output_type": "execute_result"
    }
   ],
   "source": [
    "tf.keras.utils.plot_model(decoder, to_file=\"Decoder.png\", show_shapes=True, dpi=64)"
   ]
  },
  {
   "cell_type": "code",
   "execution_count": 18,
   "metadata": {},
   "outputs": [
    {
     "name": "stdout",
     "output_type": "stream",
     "text": [
      "Model: \"sequential_4\"\n",
      "_________________________________________________________________\n",
      "Layer (type)                 Output Shape              Param #   \n",
      "=================================================================\n",
      "dense_8 (Dense)              (None, 512)               401920    \n",
      "_________________________________________________________________\n",
      "dropout_4 (Dropout)          (None, 512)               0         \n",
      "_________________________________________________________________\n",
      "dense_9 (Dense)              (None, 10)                5130      \n",
      "=================================================================\n",
      "Total params: 407,050\n",
      "Trainable params: 407,050\n",
      "Non-trainable params: 0\n",
      "_________________________________________________________________\n"
     ]
    }
   ],
   "source": [
    "# Create a basic model instance\n",
    "model = autoencoder()\n",
    "\n",
    "# Display the model's architecture\n",
    "model.summary()"
   ]
  },
  {
   "cell_type": "code",
   "execution_count": null,
   "metadata": {},
   "outputs": [],
   "source": []
  },
  {
   "cell_type": "code",
   "execution_count": null,
   "metadata": {},
   "outputs": [],
   "source": []
  }
 ],
 "metadata": {
  "kernelspec": {
   "display_name": "Python 3",
   "language": "python",
   "name": "python3"
  },
  "language_info": {
   "codemirror_mode": {
    "name": "ipython",
    "version": 3
   },
   "file_extension": ".py",
   "mimetype": "text/x-python",
   "name": "python",
   "nbconvert_exporter": "python",
   "pygments_lexer": "ipython3",
   "version": "3.7.6"
  }
 },
 "nbformat": 4,
 "nbformat_minor": 4
}
