{
 "cells": [
  {
   "cell_type": "code",
   "execution_count": 1,
   "metadata": {},
   "outputs": [
    {
     "name": "stdout",
     "output_type": "stream",
     "text": [
      "6100\n"
     ]
    }
   ],
   "source": [
    "# generate gif\n",
    "from IPython import display\n",
    "import imageio\n",
    "from glob import glob\n",
    "# 1\n",
    "# root_read = \"E:\\\\Projects\\\\logs\\\\dicoms\\\\fixedArranged\\\\fixed\\\\1Bleed_AE_L1_CE_Sigmoid_NormFull\\\\AE_saves\\\\Predictions\"\n",
    "# 2\n",
    "# root_read = \"E:\\\\Projects\\\\logs\\\\dicoms\\\\fixedArranged\\\\fixed\\\\2Bleed_AE_L1_CE_Sigmoid_NormNarrow_NoShuffle\\\\AE_saves\\\\Predictions\"\n",
    "\n",
    "# 3\n",
    "# root_read = \"E:\\\\Projects\\\\logs\\\\dicoms\\\\fixedArranged\\\\fixed\\\\3Bleed_AE_L1_CE_Sigmoid_NormNarrow_ShuffleTr\\\\AE_saves\\\\Predictions\"\n",
    "# anim_file = root_write +'/AE_saves3.gif'\n",
    "\n",
    "#4 \n",
    "# root_read = \"E:\\\\Projects\\\\logs\\\\dicoms\\\\fixedArranged\\\\fixed\\\\4Bleed_AE_L1_BCE_Sigmoid_NormNarrow_ShuffleTr_SaveBest\\\\AE_saves\\\\Predictions\"\n",
    "# anim_file = root_write +'/AE_saves4.gif'\n",
    "\n",
    "# #5\n",
    "# root_read = \"E:\\\\Projects\\\\logs\\\\dicoms\\\\fixedArranged\\\\fixed\\\\5Bleed_AE_L1Only_Sigmoid_NormNarrow_ShuffleTr_SaveBest\\\\AE_saves\\\\Predictions\"\n",
    "# anim_file = root_write +'/AE_saves5.gif'\n",
    "\n",
    "#6\n",
    "# root_read = \"E:\\\\Projects\\\\logs\\\\dicoms\\\\fixedArranged\\\\fixed\\\\6Bleed_AE_Huber_Sigmoid_NormNarrow_ShuffleTr_SaveBest\\\\AE_saves\\\\Predictions\"\n",
    "# anim_file = root_write +'/AE_saves6.gif'\n",
    "\n",
    "#7\n",
    "# root_read = \"E:\\\\Projects\\\\logs\\\\dicoms\\\\fixedArranged\\\\fixed\\\\7Bleed_AE_Huber_BCE_Sigmoid_NormNarrow_ShuffleTr_SaveBest\\\\AE_saves\\\\Predictions\"\n",
    "# anim_file = root_write +'/AE_saves7.gif'\n",
    "\n",
    "#8\n",
    "# root_read = \"E:\\\\Projects\\\\logs\\\\dicoms\\\\fixedArranged\\\\fixed\\\\8Bleed_AE_Huber_BCE_Sigmoid_NormNarrow_ShuffleTr_RandWinTrTe_SaveBest\\\\AE_saves\"\n",
    "# anim_file = root_write +'/AE_saves8.gif'\n",
    "\n",
    "# 9 SegAndCls\n",
    "root_read = \"E:\\\\Projects\\\\logs\\\\dicoms\\\\SegCls1\\\\8NewSegClsModel_SaveBest\\\\AE_saves\"\n",
    "root_write = \"E:\\\\Projects\\\\logs\\\\dicoms\\\\SegCls1\\\\8NewSegClsModel_SaveBest\"\n",
    "anim_file = root_write +'/AE_savesSegCls1.gif'\n",
    "\n",
    "with imageio.get_writer(anim_file, mode='I') as writer:\n",
    "  filenames = glob(root_read+ '/*.png')\n",
    "  filenames = sorted(filenames)\n",
    "  print(len(filenames))\n",
    "  last = -1\n",
    "  for i,filename in enumerate(filenames):\n",
    "    frame = 2*(i**0.5)\n",
    "    if round(frame) > round(last):\n",
    "      last = frame\n",
    "    else:\n",
    "      continue\n",
    "    image = imageio.imread(filename)\n",
    "    writer.append_data(image)\n",
    "  image = imageio.imread(filename)\n",
    "  writer.append_data(image)\n",
    "\n",
    "import IPython\n",
    "if IPython.version_info >= (6,2,0,''):\n",
    "  display.Image(filename=anim_file)"
   ]
  },
  {
   "cell_type": "code",
   "execution_count": null,
   "metadata": {},
   "outputs": [],
   "source": []
  }
 ],
 "metadata": {
  "kernelspec": {
   "display_name": "Python 3",
   "language": "python",
   "name": "python3"
  },
  "language_info": {
   "codemirror_mode": {
    "name": "ipython",
    "version": 3
   },
   "file_extension": ".py",
   "mimetype": "text/x-python",
   "name": "python",
   "nbconvert_exporter": "python",
   "pygments_lexer": "ipython3",
   "version": "3.7.6"
  },
  "pycharm": {
   "stem_cell": {
    "cell_type": "raw",
    "metadata": {
     "collapsed": false
    },
    "source": []
   }
  }
 },
 "nbformat": 4,
 "nbformat_minor": 4
}
