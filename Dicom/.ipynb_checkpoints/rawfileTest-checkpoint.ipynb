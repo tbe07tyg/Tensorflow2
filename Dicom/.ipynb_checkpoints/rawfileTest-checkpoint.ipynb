{
 "cells": [
  {
   "cell_type": "code",
   "execution_count": 57,
   "metadata": {},
   "outputs": [],
   "source": [
    "import numpy as np\n",
    "from ctypes import *\n",
    "# import cv2\n",
    "# img = cv2.imread('cat.jpg')\n",
    "# # 这里需要我们在当前目录下放一张名为cat.jpg的文件\n",
    "# img.tofile('cat.raw')\n",
    "# #利用numpy中array的函数tofile将数据写入文件\n",
    "# #这时我们发现当前目录下新增了一个文件，名为cat.raw\n",
    "# ————————————————\n",
    "# # 版权声明：本文为CSDN博主「月下花弄影」的原创文章，遵循 CC 4.0 BY-SA 版权协议，转载请附上原文出处链接及本声明。\n",
    "# 原文链接：https://blog.csdn.net/qq_27261889/article/details/80785060"
   ]
  },
  {
   "cell_type": "code",
   "execution_count": 9,
   "metadata": {},
   "outputs": [
    {
     "name": "stdout",
     "output_type": "stream",
     "text": [
      "['E:\\\\Projects\\\\TF2\\\\Dicom\\\\AE_saves\\\\image_at_epoch_0001_batch_1.png', 'E:\\\\Projects\\\\TF2\\\\Dicom\\\\AE_saves\\\\image_at_epoch_0001_batch_100.png', 'E:\\\\Projects\\\\TF2\\\\Dicom\\\\AE_saves\\\\image_at_epoch_0001_batch_200.png', 'E:\\\\Projects\\\\TF2\\\\Dicom\\\\AE_saves\\\\image_at_epoch_0001_batch_300.png', 'E:\\\\Projects\\\\TF2\\\\Dicom\\\\AE_saves\\\\image_at_epoch_0001_batch_400.png', 'E:\\\\Projects\\\\TF2\\\\Dicom\\\\AE_saves\\\\image_at_epoch_0001_batch_500.png', 'E:\\\\Projects\\\\TF2\\\\Dicom\\\\AE_saves\\\\image_at_epoch_0001_batch_600.png']\n"
     ]
    }
   ],
   "source": [
    "imgs_paths_root = \"E:\\Projects\\TF2\\Dicom\\AE_saves\"\n",
    "from glob import glob\n",
    "imgs_paths =  glob(imgs_paths_root+\"/*.png\")\n",
    "print(imgs_paths)"
   ]
  },
  {
   "cell_type": "code",
   "execution_count": 34,
   "metadata": {},
   "outputs": [
    {
     "name": "stdout",
     "output_type": "stream",
     "text": [
      "2\n"
     ]
    }
   ],
   "source": [
    "# raw data from dicom label\n",
    "from glob import glob\n",
    "label_root = \"E:/dataset/Leisang/myTry/BleedingDataDCM/train/ZA-006_000/*.raw\"\n",
    "\n",
    "raw_labels =  glob(label_root)\n",
    "print(len(raw_labels))"
   ]
  },
  {
   "cell_type": "code",
   "execution_count": 70,
   "metadata": {},
   "outputs": [
    {
     "name": "stdout",
     "output_type": "stream",
     "text": [
      "select true label file\n",
      "\n",
      "label path: E:/dataset/Leisang/myTry/BleedingDataDCM/train/ZA-006_000\\delay6.raw\n"
     ]
    }
   ],
   "source": [
    "if len(raw_labels)==2:\n",
    "    # \n",
    "    print(\"select true label file\")\n",
    "    # word for word in lst if len(word) > 5\n",
    "    raw_label_path =  [path for path in raw_labels if  \"delay\" in path][0]\n",
    "    print()\n",
    "    \n",
    "print(\"label path:\", raw_label_path)"
   ]
  },
  {
   "cell_type": "code",
   "execution_count": 74,
   "metadata": {},
   "outputs": [
    {
     "name": "stdout",
     "output_type": "stream",
     "text": [
      "(655884288,)\n",
      "[  0 248   0 ... 248   0 248]\n",
      "data tyep:  <class 'numpy.uint8'>\n",
      "range: [0, 255]\n",
      "delay shape: (2502, 512, 512)\n",
      "(655884288,)\n",
      "[ 0 -8  0 ... -8  0 -8]\n",
      "data tyep:  <class 'numpy.int8'>\n",
      "range: [-128, 127]\n",
      "delay shape: (2502, 512, 512)\n"
     ]
    }
   ],
   "source": [
    "# read raw file\n",
    "\n",
    "raw_label_path2 = \"E:\\\\dataset\\\\Leisang\\\\myTry\\\\BleedingDataDCM\\\\train\\\\ZA-006_000\\\\ZA-006_000marked.raw\"\n",
    "# signed char\n",
    "# datatype =  np.byte\n",
    "# unsigned char \n",
    "datatypes =  [np.ubyte, np.byte]\n",
    "for dtype in datatypes:\n",
    "    imgData_delay  = np.fromfile(raw_label_path, dtype = dtype) # according to np datatype. https://docs.scipy.org/doc/numpy/user/basics.types.html\n",
    "    print(imgData_delay.shape)\n",
    "    print(imgData_delay)\n",
    "    print(\"data tyep: \", dtype)\n",
    "    print(\"range: [{}, {}]\".format(imgData_delay.min(), imgData_delay.max()))\n",
    "    delay_labelData =  imgData_delay.reshape([-1, 512, 512])\n",
    "    print(\"delay shape:\", delay_labelData.shape)\n",
    "\n",
    "\n",
    "    \n",
    "\n",
    "datatypes =  [np.ubyte, np.byte]\n",
    "for dtype in datatypes:\n",
    "    imgData_delay  = np.fromfile(raw_label_path, dtype = dtype) # according to np datatype. https://docs.scipy.org/doc/numpy/user/basics.types.html\n",
    "    print(imgData_delay.shape)\n",
    "    print(imgData_delay)\n",
    "    print(\"data tyep: \", dtype)\n",
    "    print(\"range: [{}, {}]\".format(imgData_delay.min(), imgData_delay.max()))\n",
    "    delay_labelData =  imgData_delay.reshape([-1, 512, 512])\n",
    "    print(\"delay shape:\", delay_labelData.shape)\n"
   ]
  },
  {
   "cell_type": "code",
   "execution_count": null,
   "metadata": {},
   "outputs": [],
   "source": []
  }
 ],
 "metadata": {
  "kernelspec": {
   "display_name": "Python 3",
   "language": "python",
   "name": "python3"
  },
  "language_info": {
   "codemirror_mode": {
    "name": "ipython",
    "version": 3
   },
   "file_extension": ".py",
   "mimetype": "text/x-python",
   "name": "python",
   "nbconvert_exporter": "python",
   "pygments_lexer": "ipython3",
   "version": "3.7.6"
  }
 },
 "nbformat": 4,
 "nbformat_minor": 4
}
