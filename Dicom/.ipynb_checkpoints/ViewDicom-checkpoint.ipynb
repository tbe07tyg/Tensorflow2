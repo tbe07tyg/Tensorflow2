{
 "cells": [
  {
   "cell_type": "markdown",
   "metadata": {},
   "source": [
    "# Dicom Viewer"
   ]
  },
  {
   "cell_type": "code",
   "execution_count": 46,
   "metadata": {},
   "outputs": [],
   "source": [
    "# import all the needed modules\n",
    "import os\n",
    "from glob import glob"
   ]
  },
  {
   "cell_type": "code",
   "execution_count": 47,
   "metadata": {},
   "outputs": [
    {
     "name": "stdout",
     "output_type": "stream",
     "text": [
      "current working dir: /home/ytx/myProjects/TensorflowV2/Dicom\n"
     ]
    }
   ],
   "source": [
    "\n",
    "# check the current working direcotry\n",
    "cwd = os.getcwd()\n",
    "print(\"current working dir:\", cwd)"
   ]
  },
  {
   "cell_type": "code",
   "execution_count": 48,
   "metadata": {},
   "outputs": [
    {
     "name": "stdout",
     "output_type": "stream",
     "text": [
      "one seq. dicom data dir: I:/dataset/LeiSang/bleed_2020-01-17_15-54-43/BleedingDataDCM/ZA-006_000\n",
      "I:/dataset/LeiSang/bleed_2020-01-17_15-54-43/BleedingDataDCM/ZA-006_000/*.DCM\n"
     ]
    }
   ],
   "source": [
    "# set the dicom path\n",
    "dicom_dir =  \"I:/dataset/LeiSang/bleed_2020-01-17_15-54-43/BleedingDataDCM/ZA-006_000\"\n",
    "print(\"one seq. dicom data dir:\", dicom_dir)\n",
    "# list the dicom files in the folder\n",
    "print(os.path.join(dicom_dir, \"*.DCM\"))\n",
    "\n",
    "label_in_marked_paths =  glob(os.path.join(dicom_dir, \"*.raw\"))\n",
    "# print(\"list all the files in the dicom dir:\", files_in_dicom_dir)\n",
    "# print(\"the first dicom slice:\", files_in_dicom_paths)\n",
    "\n",
    "# sorted_label_paths =  sorted(label_in_marked_paths)                               \n",
    "\n",
    "# print()\n",
    "# print(\"print sorted raw file path :\", sorted_label_paths[0], sorted_label_paths[1],\"...\" ,sorted_label_paths[-1])\n",
    "# # print(\"the total number of RAWs:\", len(sorted_label_paths))\n",
    "\n",
    "# mask_path =   [p for p in sorted_label_paths if \"marked\" in p]\n",
    "# print(\"actual label path:\", mask_path)\n",
    "\n",
    "\n",
    "\n",
    "\n",
    "    \n",
    "    "
   ]
  },
  {
   "cell_type": "markdown",
   "metadata": {},
   "source": [
    "## ---> visualize dicom \n"
   ]
  },
  {
   "cell_type": "code",
   "execution_count": 49,
   "metadata": {},
   "outputs": [
    {
     "name": "stdout",
     "output_type": "stream",
     "text": [
      "Requirement already satisfied: pydicom in /home/ytx/anaconda3/envs/TF21Wio/lib/python3.7/site-packages (1.4.1)\n"
     ]
    }
   ],
   "source": [
    "!pip install pydicom"
   ]
  },
  {
   "cell_type": "code",
   "execution_count": 50,
   "metadata": {},
   "outputs": [],
   "source": [
    "import numpy as np\n",
    "import matplotlib.pyplot as plt\n",
    "# import os, glob\n",
    "import pydicom\n",
    "import pylab as pl\n",
    "import sys\n",
    "import matplotlib.path as mplPath\n",
    "\n",
    "# class IndexTracker(object):\n",
    "#     def __init__(self, ax, X):\n",
    "#         self.ax = ax\n",
    "#         ax.set_title('Scroll to Navigate through the DICOM Image Slices')\n",
    "\n",
    "#         self.X = X\n",
    "#         rows, cols, self.slices = X.shape\n",
    "#         self.ind = self.slices//2\n",
    "\n",
    "#         self.im = ax.imshow(self.X[:, :, self.ind])\n",
    "#         self.update()\n",
    "\n",
    "#     def onscroll(self, event):\n",
    "#         print(\"%s %s\" % (event.button, event.step))\n",
    "#         if event.button == 'up':\n",
    "#             self.ind = (self.ind + 1) % self.slices\n",
    "#         else:\n",
    "#             self.ind = (self.ind - 1) % self.slices\n",
    "#         self.update()\n",
    "\n",
    "#     def update(self):\n",
    "#         self.im.set_data(self.X[:, :, self.ind])\n",
    "#         ax.set_ylabel('Slice Number: %s' % self.ind)\n",
    "#         self.im.axes.figure.canvas.draw()\n",
    "\n",
    "# fig, ax = plt.subplots(1,1)\n",
    "\n",
    "# os.system(\"tree C:/Users/Dicom_ROI\")\n",
    "\n",
    "# plots = []\n",
    "\n",
    "# for (index, f) in enumerate(files_in_dicom_paths):\n",
    "\n",
    "#     filename = f.split(\"/\")[-1].split(\"\\\\\")[-1]\n",
    " \n",
    "#     ds = pydicom.dcmread(f)\n",
    "#     pix = ds.pixel_array\n",
    "#     if index==0:\n",
    "#         print(\"each dicom path {}: at{}\".format(f, index))\n",
    "#         print(\"each dicom info:\")\n",
    "#         print(\"each file name:\", filename)\n",
    "#         print(\"each dicom shape:\", pix.shape)\n",
    "#         print(\"each min:{}, max:{}\".format(np.min(pix), np.max(pix)))\n",
    "#     pix = pix*1+(-1024)\n",
    "#     plots.append(pix)\n",
    "\n",
    "# y = np.dstack(plots)\n",
    "\n",
    "# tracker = IndexTracker(ax, y)\n",
    "\n",
    "# fig.canvas.mpl_connect('scroll_event', tracker.onscroll)\n",
    "# plt.show()"
   ]
  },
  {
   "cell_type": "code",
   "execution_count": 65,
   "metadata": {},
   "outputs": [
    {
     "name": "stdout",
     "output_type": "stream",
     "text": [
      "\n"
     ]
    },
    {
     "data": {
      "application/vnd.jupyter.widget-view+json": {
       "model_id": "540d20dad22f42cf8208baf54fe00974",
       "version_major": 2,
       "version_minor": 0
      },
      "text/plain": [
       "interactive(children=(Dropdown(description='train_or_val', options=('train', 'val'), value='train'), Output())…"
      ]
     },
     "metadata": {},
     "output_type": "display_data"
    }
   ],
   "source": [
    "# !pip install ipywidgets # only need to run once if not installed\n",
    "\n",
    "# !jupyter labextension install @jupyter-widgets/jupyterlab-manager\n",
    "from ipywidgets import interact, interactive, fixed, interact_manual, widgets\n",
    "from IPython.display import display\n",
    "th_mode = [\"default\", \"LeiSang\"]\n",
    "\n",
    "train_or_val = [\"train\", \"val\"]\n",
    "\n",
    "print()\n",
    "#/media/ytx/Japan_Deep_Data/dataset/LeiSang/bleed_2020-01-17_15-54-43/BleedingDataDCM\n",
    "# dicom_root = \"/media/ytx/Japan_Deep_Data/dataset/LeiSang/bleed_2020-01-17_15-54-43/BleedingDataDCM\"\n",
    "# dicom_dirs =  os.listdir(dicom_root)\n",
    "\n",
    "def get_dcm_mask_paths(dicom_root, dcm_dir, mode):\n",
    "    dcm_dir_full = os.path.join(dicom_root, dcm_dir, \"*.DCM\")\n",
    "    raw_dir_full =  os.path.join(dicom_root, dcm_dir, \"*.raw\")\n",
    "    print(\"dcm_dir_full_path:\",dcm_dir_full)\n",
    "    print(\"raw_dir_full_path:\",raw_dir_full)\n",
    "    print()\n",
    "    files_in_dicom_paths =  glob(dcm_dir_full)\n",
    "    sorted_dicom_paths =  sorted(files_in_dicom_paths)\n",
    "    print(\"sorted dicom paths :\", sorted_dicom_paths[0], sorted_dicom_paths[1],\"...\" ,sorted_dicom_paths[-1])\n",
    "    print(\"the total number of DCMS:\", len(files_in_dicom_paths))\n",
    "    print()\n",
    "    label_in_marked_paths =  glob(raw_dir_full)\n",
    "    mask_path =   [p for p in label_in_marked_paths if \"marked\" in p]\n",
    "    print(\"actual label path:\", mask_path)\n",
    "    print(\"the total number of labels:\", len(mask_path))\n",
    "    print()\n",
    "\n",
    "    # for displaying\n",
    "    ind =  widgets.IntSlider(value=1, min=1, max= len(files_in_dicom_paths))\n",
    "    if mode == \"LeiSang\":\n",
    "        LB =  widgets.IntSlider(value=20, min=-2049, max= 4000)\n",
    "        HB =  widgets.IntSlider(value=380, min=-2049, max= 4000)\n",
    "    elif mode ==\"default\":\n",
    "        LB =  widgets.IntSlider(value=-130, min=-2049, max= 4000)\n",
    "        HB =  widgets.IntSlider(value=250, min=-2049, max= 4000)\n",
    "    \n",
    "    \n",
    "    def display(index, LW, HW):\n",
    "       \n",
    "        \n",
    "        print(\"dcm path------->:\", files_in_dicom_paths[index-1])\n",
    "        ds = pydicom.dcmread(files_in_dicom_paths[index-1])\n",
    "    #     print(\"DCM info:\", ds)\n",
    "    #         print(\"Filename:\", filename)\n",
    "\n",
    "        # get dcm pixel content:\n",
    "        pix = ds.pixel_array\n",
    "        print(\"Shape info: ---------->\", pix.shape )\n",
    "        print(\"raw DCM content range [{}, {}]\".format(np.min(pix), np.max(pix)))\n",
    "\n",
    "        # threshold   # lei-sang wa center 200, window, 360, slides 60, 380\n",
    "        pix[pix<LW] = LW # low boundary , if < LW , set to LW\n",
    "        pix[pix>HW] = HW # high boundary, if > Hw, Set to 255\n",
    "        print(\"after windowed DCM content range [{}, {}]\".format(np.min(pix), np.max(pix)))\n",
    "\n",
    "        # normalize to [0, 255] and plot\n",
    "        plt.imshow(pix, cmap='gray',vmin=0, vmax=255)\n",
    "    \n",
    "    interact(display, index=ind, LW=LB, HW=HB);\n",
    "    return files_in_dicom_paths, mask_path\n",
    "\n",
    "\n",
    "\n",
    "\n",
    "\n",
    "\n",
    "sub_dicom_dirs2 = None\n",
    "\n",
    "def get_sub_DCM_folders(train_or_val):\n",
    "    if train_or_val == \"train\":\n",
    "        dicom_root = \"/media/ytx/Japan_Deep_Data/dataset/LeiSang/myTry/BleedingDataDCM/train\"\n",
    "    else:\n",
    "        dicom_root = \"/media/ytx/Japan_Deep_Data/dataset/LeiSang/myTry/BleedingDataDCM/val\"\n",
    "    sub_dicom_dirs = os.listdir(dicom_root)\n",
    "    \n",
    "#     display(sub_dicom_dirs)\n",
    "    interact(get_dcm_mask_paths,dicom_root=dicom_root, dcm_dir= sub_dicom_dirs, mode=th_mode)\n",
    "#     return sub_dicom_dirs\n",
    "\n",
    "def dcm_viewer(train_or_val):\n",
    "    \n",
    "    interact(get_sub_DCM_folders,train_or_val=train_or_val)\n",
    "    \n",
    "\n",
    "  \n",
    "\n",
    "    \n",
    "    \n",
    "    \n",
    "    \n",
    "\n",
    "#     interact(display, index=ind, LW=LB, HW=HB);\n",
    "\n",
    "# interact(get_sub_DCM_folders, train_or_val=train_or_val) \n",
    "# print(sub_dicom_dirs2)\n",
    "dcm_viewer(train_or_val=train_or_val);"
   ]
  },
  {
   "cell_type": "code",
   "execution_count": null,
   "metadata": {},
   "outputs": [],
   "source": []
  },
  {
   "cell_type": "code",
   "execution_count": null,
   "metadata": {},
   "outputs": [],
   "source": []
  },
  {
   "cell_type": "code",
   "execution_count": null,
   "metadata": {},
   "outputs": [],
   "source": []
  }
 ],
 "metadata": {
  "kernelspec": {
   "display_name": "Python 3",
   "language": "python",
   "name": "python3"
  },
  "language_info": {
   "codemirror_mode": {
    "name": "ipython",
    "version": 3
   },
   "file_extension": ".py",
   "mimetype": "text/x-python",
   "name": "python",
   "nbconvert_exporter": "python",
   "pygments_lexer": "ipython3",
   "version": "3.7.6"
  }
 },
 "nbformat": 4,
 "nbformat_minor": 4
}
